{
 "cells": [
  {
   "cell_type": "markdown",
   "metadata": {},
   "source": [
    "# pip install numpy matplotlib\n"
   ]
  },
  {
   "cell_type": "code",
   "execution_count": 1,
   "metadata": {},
   "outputs": [],
   "source": [
    "import numpy as np "
   ]
  },
  {
   "cell_type": "markdown",
   "metadata": {},
   "source": [
    "- create\n",
    "- basic opreation\n",
    "- math opertion\n",
    "- indexing and slicing\n",
    "- boolean filter"
   ]
  },
  {
   "cell_type": "code",
   "execution_count": 2,
   "metadata": {},
   "outputs": [
    {
     "name": "stdout",
     "output_type": "stream",
     "text": [
      "[1 2 3 4 5]\n"
     ]
    }
   ],
   "source": [
    "x = np.array([1,2,3,4,5])\n",
    "print(x)"
   ]
  },
  {
   "cell_type": "code",
   "execution_count": 3,
   "metadata": {},
   "outputs": [
    {
     "name": "stdout",
     "output_type": "stream",
     "text": [
      "[[1 2 3]\n",
      " [4 5 6]]\n",
      "(2, 3)\n"
     ]
    }
   ],
   "source": [
    "a = np.array([[1,2,3],[4,5,6]])\n",
    "print(a)\n",
    "print(a.shape)"
   ]
  },
  {
   "cell_type": "code",
   "execution_count": 4,
   "metadata": {},
   "outputs": [
    {
     "name": "stdout",
     "output_type": "stream",
     "text": [
      "[[0 1 2 3 4 5 6 7 8 9]\n",
      " [0 1 2 3 4 5 6 7 8 9]\n",
      " [0 1 2 3 4 5 6 7 8 9]\n",
      " [0 1 2 3 4 5 6 7 8 9]\n",
      " [0 1 2 3 4 5 6 7 8 9]\n",
      " [0 1 2 3 4 5 6 7 8 9]\n",
      " [0 1 2 3 4 5 6 7 8 9]\n",
      " [0 1 2 3 4 5 6 7 8 9]\n",
      " [0 1 2 3 4 5 6 7 8 9]\n",
      " [0 1 2 3 4 5 6 7 8 9]]\n",
      "(10, 10)\n"
     ]
    }
   ],
   "source": [
    "z = [0,1,2,3,4,5,6,7,8,9]\n",
    "nz = np.array([z,z,z,z,z,z,z,z,z,z]) # [z]*10\n",
    "print(nz)\n",
    "print(nz.shape)"
   ]
  },
  {
   "cell_type": "code",
   "execution_count": 5,
   "metadata": {},
   "outputs": [
    {
     "name": "stdout",
     "output_type": "stream",
     "text": [
      "[[0 1 2 3 4 5 6 7 8 9]\n",
      " [0 1 2 3 4 5 6 7 8 9]\n",
      " [0 1 2 3 4 5 6 7 8 9]\n",
      " [0 1 2 3 4 5 6 7 8 9]\n",
      " [0 1 2 3 4 5 6 7 8 9]\n",
      " [0 1 2 3 4 5 6 7 8 9]\n",
      " [0 1 2 3 4 5 6 7 8 9]\n",
      " [0 1 2 3 4 5 6 7 8 9]\n",
      " [0 1 2 3 4 5 6 7 8 9]\n",
      " [0 1 2 3 4 5 6 7 8 9]\n",
      " [0 1 2 3 4 5 6 7 8 9]\n",
      " [0 1 2 3 4 5 6 7 8 9]\n",
      " [0 1 2 3 4 5 6 7 8 9]\n",
      " [0 1 2 3 4 5 6 7 8 9]\n",
      " [0 1 2 3 4 5 6 7 8 9]\n",
      " [0 1 2 3 4 5 6 7 8 9]\n",
      " [0 1 2 3 4 5 6 7 8 9]\n",
      " [0 1 2 3 4 5 6 7 8 9]\n",
      " [0 1 2 3 4 5 6 7 8 9]\n",
      " [0 1 2 3 4 5 6 7 8 9]\n",
      " [0 1 2 3 4 5 6 7 8 9]\n",
      " [0 1 2 3 4 5 6 7 8 9]\n",
      " [0 1 2 3 4 5 6 7 8 9]\n",
      " [0 1 2 3 4 5 6 7 8 9]\n",
      " [0 1 2 3 4 5 6 7 8 9]\n",
      " [0 1 2 3 4 5 6 7 8 9]\n",
      " [0 1 2 3 4 5 6 7 8 9]\n",
      " [0 1 2 3 4 5 6 7 8 9]\n",
      " [0 1 2 3 4 5 6 7 8 9]\n",
      " [0 1 2 3 4 5 6 7 8 9]\n",
      " [0 1 2 3 4 5 6 7 8 9]\n",
      " [0 1 2 3 4 5 6 7 8 9]\n",
      " [0 1 2 3 4 5 6 7 8 9]\n",
      " [0 1 2 3 4 5 6 7 8 9]\n",
      " [0 1 2 3 4 5 6 7 8 9]\n",
      " [0 1 2 3 4 5 6 7 8 9]\n",
      " [0 1 2 3 4 5 6 7 8 9]\n",
      " [0 1 2 3 4 5 6 7 8 9]\n",
      " [0 1 2 3 4 5 6 7 8 9]\n",
      " [0 1 2 3 4 5 6 7 8 9]\n",
      " [0 1 2 3 4 5 6 7 8 9]\n",
      " [0 1 2 3 4 5 6 7 8 9]\n",
      " [0 1 2 3 4 5 6 7 8 9]\n",
      " [0 1 2 3 4 5 6 7 8 9]\n",
      " [0 1 2 3 4 5 6 7 8 9]\n",
      " [0 1 2 3 4 5 6 7 8 9]\n",
      " [0 1 2 3 4 5 6 7 8 9]\n",
      " [0 1 2 3 4 5 6 7 8 9]\n",
      " [0 1 2 3 4 5 6 7 8 9]\n",
      " [0 1 2 3 4 5 6 7 8 9]\n",
      " [0 1 2 3 4 5 6 7 8 9]\n",
      " [0 1 2 3 4 5 6 7 8 9]\n",
      " [0 1 2 3 4 5 6 7 8 9]\n",
      " [0 1 2 3 4 5 6 7 8 9]\n",
      " [0 1 2 3 4 5 6 7 8 9]\n",
      " [0 1 2 3 4 5 6 7 8 9]\n",
      " [0 1 2 3 4 5 6 7 8 9]\n",
      " [0 1 2 3 4 5 6 7 8 9]\n",
      " [0 1 2 3 4 5 6 7 8 9]\n",
      " [0 1 2 3 4 5 6 7 8 9]\n",
      " [0 1 2 3 4 5 6 7 8 9]\n",
      " [0 1 2 3 4 5 6 7 8 9]\n",
      " [0 1 2 3 4 5 6 7 8 9]\n",
      " [0 1 2 3 4 5 6 7 8 9]\n",
      " [0 1 2 3 4 5 6 7 8 9]\n",
      " [0 1 2 3 4 5 6 7 8 9]\n",
      " [0 1 2 3 4 5 6 7 8 9]\n",
      " [0 1 2 3 4 5 6 7 8 9]\n",
      " [0 1 2 3 4 5 6 7 8 9]\n",
      " [0 1 2 3 4 5 6 7 8 9]\n",
      " [0 1 2 3 4 5 6 7 8 9]\n",
      " [0 1 2 3 4 5 6 7 8 9]\n",
      " [0 1 2 3 4 5 6 7 8 9]\n",
      " [0 1 2 3 4 5 6 7 8 9]\n",
      " [0 1 2 3 4 5 6 7 8 9]\n",
      " [0 1 2 3 4 5 6 7 8 9]\n",
      " [0 1 2 3 4 5 6 7 8 9]\n",
      " [0 1 2 3 4 5 6 7 8 9]\n",
      " [0 1 2 3 4 5 6 7 8 9]\n",
      " [0 1 2 3 4 5 6 7 8 9]\n",
      " [0 1 2 3 4 5 6 7 8 9]\n",
      " [0 1 2 3 4 5 6 7 8 9]\n",
      " [0 1 2 3 4 5 6 7 8 9]\n",
      " [0 1 2 3 4 5 6 7 8 9]\n",
      " [0 1 2 3 4 5 6 7 8 9]\n",
      " [0 1 2 3 4 5 6 7 8 9]\n",
      " [0 1 2 3 4 5 6 7 8 9]\n",
      " [0 1 2 3 4 5 6 7 8 9]\n",
      " [0 1 2 3 4 5 6 7 8 9]\n",
      " [0 1 2 3 4 5 6 7 8 9]\n",
      " [0 1 2 3 4 5 6 7 8 9]\n",
      " [0 1 2 3 4 5 6 7 8 9]\n",
      " [0 1 2 3 4 5 6 7 8 9]\n",
      " [0 1 2 3 4 5 6 7 8 9]\n",
      " [0 1 2 3 4 5 6 7 8 9]\n",
      " [0 1 2 3 4 5 6 7 8 9]\n",
      " [0 1 2 3 4 5 6 7 8 9]\n",
      " [0 1 2 3 4 5 6 7 8 9]\n",
      " [0 1 2 3 4 5 6 7 8 9]\n",
      " [0 1 2 3 4 5 6 7 8 9]]\n",
      "(100, 10)\n"
     ]
    }
   ],
   "source": [
    "z = [0,1,2,3,4,5,6,7,8,9]\n",
    "nz = np.array([z]*100) \n",
    "print(nz)\n",
    "print(nz.shape)"
   ]
  },
  {
   "cell_type": "markdown",
   "metadata": {},
   "source": [
    "- random \n",
    "- arange\n",
    "- linspace "
   ]
  },
  {
   "cell_type": "code",
   "execution_count": 6,
   "metadata": {},
   "outputs": [
    {
     "data": {
      "text/plain": [
       "array([[0.92773213, 0.86893703, 0.44107017],\n",
       "       [0.8207956 , 0.33034334, 0.31912376],\n",
       "       [0.29804348, 0.87475863, 0.48938855]])"
      ]
     },
     "execution_count": 6,
     "metadata": {},
     "output_type": "execute_result"
    }
   ],
   "source": [
    "np.random.rand(3,3) # that genrate vaules btw 0 to 1"
   ]
  },
  {
   "cell_type": "code",
   "execution_count": 7,
   "metadata": {},
   "outputs": [
    {
     "name": "stdout",
     "output_type": "stream",
     "text": [
      "[[ 2 -4 -3 -1 -2]\n",
      " [-1  3 -3 -4  3]\n",
      " [-5  5  3  4 -3]\n",
      " [ 0  5  5 -1  4]\n",
      " [-3  1  3 -3 -2]]\n"
     ]
    }
   ],
   "source": [
    "r1 = np.random.randint(-5,6, (5,5)) # it genrate the random vaules btw the -5 to 6 that user give \n",
    "print(r1)"
   ]
  },
  {
   "cell_type": "code",
   "execution_count": 8,
   "metadata": {},
   "outputs": [
    {
     "data": {
      "text/plain": [
       "array([ 0. ,  0.5,  1. ,  1.5,  2. ,  2.5,  3. ,  3.5,  4. ,  4.5,  5. ,\n",
       "        5.5,  6. ,  6.5,  7. ,  7.5,  8. ,  8.5,  9. ,  9.5, 10. , 10.5,\n",
       "       11. , 11.5, 12. , 12.5, 13. , 13.5, 14. , 14.5, 15. , 15.5, 16. ,\n",
       "       16.5, 17. , 17.5, 18. , 18.5, 19. , 19.5, 20. , 20.5, 21. , 21.5,\n",
       "       22. , 22.5, 23. , 23.5, 24. , 24.5, 25. , 25.5, 26. , 26.5, 27. ,\n",
       "       27.5, 28. , 28.5, 29. , 29.5, 30. , 30.5, 31. , 31.5, 32. , 32.5,\n",
       "       33. , 33.5, 34. , 34.5, 35. , 35.5, 36. , 36.5, 37. , 37.5, 38. ,\n",
       "       38.5, 39. , 39.5, 40. , 40.5, 41. , 41.5, 42. , 42.5, 43. , 43.5,\n",
       "       44. , 44.5, 45. , 45.5, 46. , 46.5, 47. , 47.5, 48. , 48.5, 49. ,\n",
       "       49.5])"
      ]
     },
     "execution_count": 8,
     "metadata": {},
     "output_type": "execute_result"
    }
   ],
   "source": [
    "# start, range, gap\n",
    "np.arange(0,50, .5)"
   ]
  },
  {
   "cell_type": "code",
   "execution_count": 9,
   "metadata": {},
   "outputs": [
    {
     "data": {
      "text/plain": [
       "array([ 0.        ,  0.50505051,  1.01010101,  1.51515152,  2.02020202,\n",
       "        2.52525253,  3.03030303,  3.53535354,  4.04040404,  4.54545455,\n",
       "        5.05050505,  5.55555556,  6.06060606,  6.56565657,  7.07070707,\n",
       "        7.57575758,  8.08080808,  8.58585859,  9.09090909,  9.5959596 ,\n",
       "       10.1010101 , 10.60606061, 11.11111111, 11.61616162, 12.12121212,\n",
       "       12.62626263, 13.13131313, 13.63636364, 14.14141414, 14.64646465,\n",
       "       15.15151515, 15.65656566, 16.16161616, 16.66666667, 17.17171717,\n",
       "       17.67676768, 18.18181818, 18.68686869, 19.19191919, 19.6969697 ,\n",
       "       20.2020202 , 20.70707071, 21.21212121, 21.71717172, 22.22222222,\n",
       "       22.72727273, 23.23232323, 23.73737374, 24.24242424, 24.74747475,\n",
       "       25.25252525, 25.75757576, 26.26262626, 26.76767677, 27.27272727,\n",
       "       27.77777778, 28.28282828, 28.78787879, 29.29292929, 29.7979798 ,\n",
       "       30.3030303 , 30.80808081, 31.31313131, 31.81818182, 32.32323232,\n",
       "       32.82828283, 33.33333333, 33.83838384, 34.34343434, 34.84848485,\n",
       "       35.35353535, 35.85858586, 36.36363636, 36.86868687, 37.37373737,\n",
       "       37.87878788, 38.38383838, 38.88888889, 39.39393939, 39.8989899 ,\n",
       "       40.4040404 , 40.90909091, 41.41414141, 41.91919192, 42.42424242,\n",
       "       42.92929293, 43.43434343, 43.93939394, 44.44444444, 44.94949495,\n",
       "       45.45454545, 45.95959596, 46.46464646, 46.96969697, 47.47474747,\n",
       "       47.97979798, 48.48484848, 48.98989899, 49.49494949, 50.        ])"
      ]
     },
     "execution_count": 9,
     "metadata": {},
     "output_type": "execute_result"
    }
   ],
   "source": [
    "# start,stop,number_of_element(division)\n",
    "np.linspace(0,50,100)"
   ]
  },
  {
   "cell_type": "markdown",
   "metadata": {},
   "source": [
    "array attributes\n",
    "- shape\n",
    "- dtype\n",
    "- ndim (dimension)\n",
    "- size\n",
    "\n",
    "basic operation\n",
    "- sum\n",
    "- mean \n",
    "- min\n",
    "- max\n",
    "- std \n",
    "- reshape\n",
    "- transpose\n",
    "- flatten"
   ]
  },
  {
   "cell_type": "code",
   "execution_count": 10,
   "metadata": {},
   "outputs": [
    {
     "data": {
      "text/plain": [
       "dtype('int64')"
      ]
     },
     "execution_count": 10,
     "metadata": {},
     "output_type": "execute_result"
    }
   ],
   "source": [
    "x.dtype"
   ]
  },
  {
   "cell_type": "code",
   "execution_count": 11,
   "metadata": {},
   "outputs": [
    {
     "data": {
      "text/plain": [
       "dtype('float64')"
      ]
     },
     "execution_count": 11,
     "metadata": {},
     "output_type": "execute_result"
    }
   ],
   "source": [
    "x = np.random.rand(3,3)\n",
    "x.dtype"
   ]
  },
  {
   "cell_type": "code",
   "execution_count": 12,
   "metadata": {},
   "outputs": [
    {
     "data": {
      "text/plain": [
       "2"
      ]
     },
     "execution_count": 12,
     "metadata": {},
     "output_type": "execute_result"
    }
   ],
   "source": [
    "x.ndim"
   ]
  },
  {
   "cell_type": "code",
   "execution_count": 13,
   "metadata": {},
   "outputs": [
    {
     "name": "stdout",
     "output_type": "stream",
     "text": [
      "[[[4 4 1]\n",
      "  [2 4 1]\n",
      "  [2 2 2]]\n",
      "\n",
      " [[1 2 2]\n",
      "  [4 3 4]\n",
      "  [4 4 2]]\n",
      "\n",
      " [[1 3 1]\n",
      "  [1 4 2]\n",
      "  [2 2 4]]]\n"
     ]
    }
   ],
   "source": [
    "z = np.random.randint(1,5, (3,3,3))\n",
    "z.ndim\n",
    "print(z)"
   ]
  },
  {
   "cell_type": "code",
   "execution_count": 14,
   "metadata": {},
   "outputs": [
    {
     "data": {
      "text/plain": [
       "27"
      ]
     },
     "execution_count": 14,
     "metadata": {},
     "output_type": "execute_result"
    }
   ],
   "source": [
    "z.size"
   ]
  },
  {
   "cell_type": "code",
   "execution_count": 15,
   "metadata": {},
   "outputs": [
    {
     "data": {
      "text/plain": [
       "np.int64(68)"
      ]
     },
     "execution_count": 15,
     "metadata": {},
     "output_type": "execute_result"
    }
   ],
   "source": [
    "z.sum()"
   ]
  },
  {
   "cell_type": "code",
   "execution_count": 16,
   "metadata": {},
   "outputs": [
    {
     "name": "stdout",
     "output_type": "stream",
     "text": [
      "3.2941490205948654\n",
      "[1.37502467 1.00510789 0.91401646]\n",
      "[1.97474595 1.31940307]\n",
      "0.5490248367658109\n",
      "0.9244464508325434\n",
      "0.12758974527887545\n",
      "0.288543848558284\n",
      "0.08325755254082594\n"
     ]
    }
   ],
   "source": [
    "a = np.random.rand(2,3)\n",
    "print(a.sum())\n",
    "print(a.sum(axis=0)) # column wise\n",
    "print(a.sum(axis=1)) # row wise\n",
    "\n",
    "print(a.mean())\n",
    "print(a.max())\n",
    "print(a.min())\n",
    "print(a.std())\n",
    "print(a.var())\n",
    "# all the methods can be used with axis"
   ]
  },
  {
   "cell_type": "code",
   "execution_count": 17,
   "metadata": {},
   "outputs": [
    {
     "name": "stdout",
     "output_type": "stream",
     "text": [
      "[[81 78 66 43 23]\n",
      " [95 80 63 16 57]\n",
      " [92 59 82 74 63]\n",
      " [41 52 55 76 64]\n",
      " [93 81 26 91 51]]\n",
      "transpose\n",
      "[[81 95 92 41 93]\n",
      " [78 80 59 52 81]\n",
      " [66 63 82 55 26]\n",
      " [43 16 74 76 91]\n",
      " [23 57 63 64 51]]\n",
      "flattened\n",
      "[81 78 66 43 23 95 80 63 16 57 92 59 82 74 63 41 52 55 76 64 93 81 26 91\n",
      " 51]\n"
     ]
    }
   ],
   "source": [
    "z = np.random.randint(11,99, (5,5))\n",
    "print(z)\n",
    "print('transpose')\n",
    "print(z.transpose()) # or print(z.T)\n",
    "print('flattened')\n",
    "print(z.flatten())"
   ]
  },
  {
   "cell_type": "code",
   "execution_count": 18,
   "metadata": {},
   "outputs": [
    {
     "name": "stdout",
     "output_type": "stream",
     "text": [
      "[[4 4 8 4 8]\n",
      " [7 6 7 9 7]\n",
      " [5 9 9 5 7]\n",
      " [8 9 8 4 4]]\n",
      "[4 4 8 4 8 7 6 7 9 7 5 9 9 5 7 8 9 8 4 4]\n",
      "[[4 4 8 4]\n",
      " [8 7 6 7]\n",
      " [9 7 5 9]\n",
      " [9 5 7 8]\n",
      " [9 8 4 4]]\n",
      "[[4 4 8 4 8 7 6 7 9 7]\n",
      " [5 9 9 5 7 8 9 8 4 4]]\n",
      "[[4 4]\n",
      " [8 4]\n",
      " [8 7]\n",
      " [6 7]\n",
      " [9 7]\n",
      " [5 9]\n",
      " [9 5]\n",
      " [7 8]\n",
      " [9 8]\n",
      " [4 4]]\n",
      "[[[4 4]\n",
      "  [8 4]]\n",
      "\n",
      " [[8 7]\n",
      "  [6 7]]\n",
      "\n",
      " [[9 7]\n",
      "  [5 9]]\n",
      "\n",
      " [[9 5]\n",
      "  [7 8]]\n",
      "\n",
      " [[9 8]\n",
      "  [4 4]]]\n"
     ]
    }
   ],
   "source": [
    "a = np.random.randint(1,10, (4,5))\n",
    "print(a)\n",
    "print(a.reshape(20))\n",
    "print(a.reshape(5,4))\n",
    "print(a.reshape(2,10))\n",
    "print(a.reshape(10,2)) # 2d\n",
    "print(a.reshape(5,2,2)) # 3d"
   ]
  },
  {
   "cell_type": "code",
   "execution_count": 19,
   "metadata": {},
   "outputs": [
    {
     "name": "stdout",
     "output_type": "stream",
     "text": [
      "[[1 2]\n",
      " [3 4]]\n",
      "[[6 2]\n",
      " [3 4]]\n"
     ]
    }
   ],
   "source": [
    "a = np.array([[1,2],[3,4]])\n",
    "b = np.array([[6,2],[3,4]])\n",
    "print(a)\n",
    "print(b)"
   ]
  },
  {
   "cell_type": "code",
   "execution_count": 20,
   "metadata": {},
   "outputs": [
    {
     "name": "stdout",
     "output_type": "stream",
     "text": [
      "[[7 4]\n",
      " [6 8]]\n",
      "[[-5  0]\n",
      " [ 0  0]]\n",
      "[[0.16666667 1.        ]\n",
      " [1.         1.        ]]\n",
      "[[ 6  4]\n",
      " [ 9 16]]\n",
      "[[12 10]\n",
      " [30 22]]\n",
      "[[12 10]\n",
      " [30 22]]\n"
     ]
    }
   ],
   "source": [
    "# when using 2 matrix, the shape must be the same\n",
    "print(a+b)\n",
    "print(a-b)\n",
    "print(a/b)\n",
    "print(a*b)\n",
    "print(a@b) # matrix manipulation\n",
    "print(a.dot(b)) # matrix multiplication\n"
   ]
  },
  {
   "cell_type": "code",
   "execution_count": 21,
   "metadata": {},
   "outputs": [
    {
     "name": "stdout",
     "output_type": "stream",
     "text": [
      "[[-9 -8]\n",
      " [-7 -6]]\n",
      "[[11 12]\n",
      " [13 14]]\n",
      "[[0.1 0.2]\n",
      " [0.3 0.4]]\n",
      "[[10 20]\n",
      " [30 40]]\n"
     ]
    }
   ],
   "source": [
    "# when using matrix and scalar \n",
    "print(a - 10) #broadcasting\n",
    "print(a + 10)\n",
    "print(a / 10)\n",
    "print(a * 10)"
   ]
  },
  {
   "cell_type": "code",
   "execution_count": 22,
   "metadata": {},
   "outputs": [
    {
     "data": {
      "text/plain": [
       "np.int64(1)"
      ]
     },
     "execution_count": 22,
     "metadata": {},
     "output_type": "execute_result"
    }
   ],
   "source": [
    "# indexing\n",
    "a[0,0]"
   ]
  },
  {
   "cell_type": "code",
   "execution_count": 23,
   "metadata": {},
   "outputs": [
    {
     "name": "stdout",
     "output_type": "stream",
     "text": [
      "[[5 3 4 6 4]\n",
      " [2 9 1 9 7]\n",
      " [9 2 3 7 6]\n",
      " [1 9 5 7 6]\n",
      " [1 5 6 9 2]]\n"
     ]
    }
   ],
   "source": [
    "# slicing syntax arr[rs:rst:rg,cs:cst:cg] 2d\n",
    "x = np.random.randint(1,10, (5,5))\n",
    "print(x)\n"
   ]
  },
  {
   "cell_type": "code",
   "execution_count": 24,
   "metadata": {},
   "outputs": [
    {
     "name": "stdout",
     "output_type": "stream",
     "text": [
      "[[2 9 1 9 7]\n",
      " [9 2 3 7 6]]\n",
      "[5 2 9 1 1]\n",
      "[4 7 6 6 2]\n",
      "[[5 3 4]\n",
      " [2 9 1]\n",
      " [9 2 3]\n",
      " [1 9 5]\n",
      " [1 5 6]]\n",
      "[[9 1 9]\n",
      " [2 3 7]\n",
      " [9 5 7]]\n"
     ]
    }
   ],
   "source": [
    "print(x[1:3])\n",
    "print(x[:,0]) # first column\n",
    "print(x[:,-1]) # last column\n",
    "print(x[:,:3]) # first 3 columns\n",
    "print(x[1:-1,1:-1])"
   ]
  },
  {
   "cell_type": "markdown",
   "metadata": {},
   "source": [
    "boolean filters"
   ]
  },
  {
   "cell_type": "code",
   "execution_count": 25,
   "metadata": {},
   "outputs": [
    {
     "data": {
      "text/plain": [
       "array([[  1,   2,   3,   4],\n",
       "       [  5,   6,   7,   8],\n",
       "       [  9,  10,  11,  12],\n",
       "       [ 13,  14,  15,  16],\n",
       "       [ 17,  18,  19,  20],\n",
       "       [ 21,  22,  23,  24],\n",
       "       [ 25,  26,  27,  28],\n",
       "       [ 29,  30,  31,  32],\n",
       "       [ 33,  34,  35,  36],\n",
       "       [ 37,  38,  39,  40],\n",
       "       [ 41,  42,  43,  44],\n",
       "       [ 45,  46,  47,  48],\n",
       "       [ 49,  50,  51,  52],\n",
       "       [ 53,  54,  55,  56],\n",
       "       [ 57,  58,  59,  60],\n",
       "       [ 61,  62,  63,  64],\n",
       "       [ 65,  66,  67,  68],\n",
       "       [ 69,  70,  71,  72],\n",
       "       [ 73,  74,  75,  76],\n",
       "       [ 77,  78,  79,  80],\n",
       "       [ 81,  82,  83,  84],\n",
       "       [ 85,  86,  87,  88],\n",
       "       [ 89,  90,  91,  92],\n",
       "       [ 93,  94,  95,  96],\n",
       "       [ 97,  98,  99, 100]])"
      ]
     },
     "execution_count": 25,
     "metadata": {},
     "output_type": "execute_result"
    }
   ],
   "source": [
    "x = np.arange(1,101).reshape(25,4)\n",
    "x"
   ]
  },
  {
   "cell_type": "code",
   "execution_count": 26,
   "metadata": {},
   "outputs": [
    {
     "data": {
      "text/plain": [
       "array([[False, False, False, False],\n",
       "       [False, False, False, False],\n",
       "       [False, False, False, False],\n",
       "       [False, False, False, False],\n",
       "       [False, False, False, False],\n",
       "       [False, False, False, False],\n",
       "       [False, False, False, False],\n",
       "       [False, False, False, False],\n",
       "       [False, False, False, False],\n",
       "       [False, False, False, False],\n",
       "       [False, False, False, False],\n",
       "       [False, False, False, False],\n",
       "       [False,  True,  True,  True],\n",
       "       [ True,  True,  True,  True],\n",
       "       [ True,  True,  True,  True],\n",
       "       [ True,  True,  True,  True],\n",
       "       [ True,  True,  True,  True],\n",
       "       [ True,  True,  True,  True],\n",
       "       [ True,  True,  True,  True],\n",
       "       [ True,  True,  True,  True],\n",
       "       [ True,  True,  True,  True],\n",
       "       [ True,  True,  True,  True],\n",
       "       [ True,  True,  True,  True],\n",
       "       [ True,  True,  True,  True],\n",
       "       [ True,  True,  True,  True]])"
      ]
     },
     "execution_count": 26,
     "metadata": {},
     "output_type": "execute_result"
    }
   ],
   "source": [
    "x >=50 # boolean filter"
   ]
  },
  {
   "cell_type": "code",
   "execution_count": 27,
   "metadata": {},
   "outputs": [
    {
     "data": {
      "text/plain": [
       "array([ 50,  51,  52,  53,  54,  55,  56,  57,  58,  59,  60,  61,  62,\n",
       "        63,  64,  65,  66,  67,  68,  69,  70,  71,  72,  73,  74,  75,\n",
       "        76,  77,  78,  79,  80,  81,  82,  83,  84,  85,  86,  87,  88,\n",
       "        89,  90,  91,  92,  93,  94,  95,  96,  97,  98,  99, 100])"
      ]
     },
     "execution_count": 27,
     "metadata": {},
     "output_type": "execute_result"
    }
   ],
   "source": [
    "x[x>=50] #only value >= 50"
   ]
  },
  {
   "cell_type": "code",
   "execution_count": 28,
   "metadata": {},
   "outputs": [
    {
     "data": {
      "text/plain": [
       "array([25, 26, 27, 28, 29, 30, 31, 32, 33, 34, 35, 36, 37, 38, 39, 40, 41,\n",
       "       42, 43, 44, 45, 46, 47, 48, 49, 50, 51, 52, 53, 54, 55, 56, 57, 58,\n",
       "       59, 60, 61, 62, 63, 64, 65, 66, 67, 68, 69, 70, 71, 72, 73, 74, 75])"
      ]
     },
     "execution_count": 28,
     "metadata": {},
     "output_type": "execute_result"
    }
   ],
   "source": [
    "x[(x>=25) & (x<=75)] # bitwise & for multiple filters"
   ]
  },
  {
   "cell_type": "markdown",
   "metadata": {},
   "source": [
    "some more operations"
   ]
  },
  {
   "cell_type": "code",
   "execution_count": 29,
   "metadata": {},
   "outputs": [
    {
     "data": {
      "text/plain": [
       "array([[1, 0, 0, 0, 0],\n",
       "       [0, 1, 0, 0, 0],\n",
       "       [0, 0, 1, 0, 0],\n",
       "       [0, 0, 0, 1, 0],\n",
       "       [0, 0, 0, 0, 1]])"
      ]
     },
     "execution_count": 29,
     "metadata": {},
     "output_type": "execute_result"
    }
   ],
   "source": [
    "np.eye(5, dtype=int) #5*5"
   ]
  },
  {
   "cell_type": "code",
   "execution_count": 30,
   "metadata": {},
   "outputs": [
    {
     "data": {
      "text/plain": [
       "array([[1, 0, 0, 0, 0, 0],\n",
       "       [0, 2, 0, 0, 0, 0],\n",
       "       [0, 0, 3, 0, 0, 0],\n",
       "       [0, 0, 0, 4, 0, 0],\n",
       "       [0, 0, 0, 0, 5, 0],\n",
       "       [0, 0, 0, 0, 0, 6]])"
      ]
     },
     "execution_count": 30,
     "metadata": {},
     "output_type": "execute_result"
    }
   ],
   "source": [
    "np.diag([1,2,3,4,5,6])"
   ]
  },
  {
   "cell_type": "code",
   "execution_count": 31,
   "metadata": {},
   "outputs": [],
   "source": [
    "np.set_printoptions(precision=2)"
   ]
  },
  {
   "cell_type": "code",
   "execution_count": 32,
   "metadata": {},
   "outputs": [
    {
     "data": {
      "text/plain": [
       "array([[0.7 , 0.57, 0.42],\n",
       "       [0.69, 0.37, 0.41],\n",
       "       [0.27, 0.82, 0.51]])"
      ]
     },
     "execution_count": 32,
     "metadata": {},
     "output_type": "execute_result"
    }
   ],
   "source": [
    "np.random.rand(3,3)"
   ]
  },
  {
   "cell_type": "code",
   "execution_count": 33,
   "metadata": {},
   "outputs": [
    {
     "data": {
      "text/plain": [
       "array([[1., 1., 1.],\n",
       "       [1., 1., 1.],\n",
       "       [1., 1., 1.]])"
      ]
     },
     "execution_count": 33,
     "metadata": {},
     "output_type": "execute_result"
    }
   ],
   "source": [
    "np.ones((3,3)) # 3*3"
   ]
  },
  {
   "cell_type": "code",
   "execution_count": 34,
   "metadata": {},
   "outputs": [
    {
     "data": {
      "text/plain": [
       "array([[1, 1, 1],\n",
       "       [1, 1, 1],\n",
       "       [1, 1, 1]])"
      ]
     },
     "execution_count": 34,
     "metadata": {},
     "output_type": "execute_result"
    }
   ],
   "source": [
    "np.ones((3,3), dtype=int)"
   ]
  },
  {
   "cell_type": "code",
   "execution_count": 35,
   "metadata": {},
   "outputs": [
    {
     "data": {
      "text/plain": [
       "array([[0., 0., 0.],\n",
       "       [0., 0., 0.],\n",
       "       [0., 0., 0.]])"
      ]
     },
     "execution_count": 35,
     "metadata": {},
     "output_type": "execute_result"
    }
   ],
   "source": [
    "np.zeros((3,3)) # 3*3"
   ]
  },
  {
   "cell_type": "code",
   "execution_count": 36,
   "metadata": {},
   "outputs": [
    {
     "data": {
      "text/plain": [
       "array([[ 0.84,  0.91,  0.14, -0.76],\n",
       "       [-0.96, -0.28,  0.66,  0.99],\n",
       "       [ 0.41, -0.54, -1.  , -0.54],\n",
       "       [ 0.42,  0.99,  0.65, -0.29],\n",
       "       [-0.96, -0.75,  0.15,  0.91],\n",
       "       [ 0.84, -0.01, -0.85, -0.91],\n",
       "       [-0.13,  0.76,  0.96,  0.27],\n",
       "       [-0.66, -0.99, -0.4 ,  0.55],\n",
       "       [ 1.  ,  0.53, -0.43, -0.99],\n",
       "       [-0.64,  0.3 ,  0.96,  0.75],\n",
       "       [-0.16, -0.92, -0.83,  0.02],\n",
       "       [ 0.85,  0.9 ,  0.12, -0.77],\n",
       "       [-0.95, -0.26,  0.67,  0.99],\n",
       "       [ 0.4 , -0.56, -1.  , -0.52],\n",
       "       [ 0.44,  0.99,  0.64, -0.3 ],\n",
       "       [-0.97, -0.74,  0.17,  0.92],\n",
       "       [ 0.83, -0.03, -0.86, -0.9 ],\n",
       "       [-0.11,  0.77,  0.95,  0.25],\n",
       "       [-0.68, -0.99, -0.39,  0.57],\n",
       "       [ 1.  ,  0.51, -0.44, -0.99],\n",
       "       [-0.63,  0.31,  0.97,  0.73],\n",
       "       [-0.18, -0.92, -0.82,  0.04],\n",
       "       [ 0.86,  0.89,  0.11, -0.78],\n",
       "       [-0.95, -0.25,  0.68,  0.98],\n",
       "       [ 0.38, -0.57, -1.  , -0.51]])"
      ]
     },
     "execution_count": 36,
     "metadata": {},
     "output_type": "execute_result"
    }
   ],
   "source": [
    "np.sin(x)"
   ]
  },
  {
   "cell_type": "code",
   "execution_count": 37,
   "metadata": {},
   "outputs": [
    {
     "name": "stdout",
     "output_type": "stream",
     "text": [
      "[[ 0.54 -0.42 -0.99 -0.65]\n",
      " [ 0.28  0.96  0.75 -0.15]\n",
      " [-0.91 -0.84  0.    0.84]\n",
      " [ 0.91  0.14 -0.76 -0.96]\n",
      " [-0.28  0.66  0.99  0.41]\n",
      " [-0.55 -1.   -0.53  0.42]\n",
      " [ 0.99  0.65 -0.29 -0.96]\n",
      " [-0.75  0.15  0.91  0.83]\n",
      " [-0.01 -0.85 -0.9  -0.13]\n",
      " [ 0.77  0.96  0.27 -0.67]\n",
      " [-0.99 -0.4   0.56  1.  ]\n",
      " [ 0.53 -0.43 -0.99 -0.64]\n",
      " [ 0.3   0.96  0.74 -0.16]\n",
      " [-0.92 -0.83  0.02  0.85]\n",
      " [ 0.9   0.12 -0.77 -0.95]\n",
      " [-0.26  0.67  0.99  0.39]\n",
      " [-0.56 -1.   -0.52  0.44]\n",
      " [ 0.99  0.63 -0.31 -0.97]\n",
      " [-0.74  0.17  0.92  0.82]\n",
      " [-0.03 -0.86 -0.9  -0.11]\n",
      " [ 0.78  0.95  0.25 -0.68]\n",
      " [-0.98 -0.38  0.57  1.  ]\n",
      " [ 0.51 -0.45 -0.99 -0.63]\n",
      " [ 0.32  0.97  0.73 -0.18]\n",
      " [-0.93 -0.82  0.04  0.86]]\n",
      "[[ 1.56e+00 -2.19e+00 -1.43e-01  1.16e+00]\n",
      " [-3.38e+00 -2.91e-01  8.71e-01 -6.80e+00]\n",
      " [-4.52e-01  6.48e-01 -2.26e+02 -6.36e-01]\n",
      " [ 4.63e-01  7.24e+00 -8.56e-01  3.01e-01]\n",
      " [ 3.49e+00 -1.14e+00  1.52e-01  2.24e+00]\n",
      " [-1.53e+00  8.85e-03  1.59e+00 -2.13e+00]\n",
      " [-1.34e-01  1.18e+00 -3.27e+00 -2.81e-01]\n",
      " [ 8.87e-01 -6.41e+00 -4.42e-01  6.61e-01]\n",
      " [-7.53e+01 -6.23e-01  4.74e-01  7.75e+00]\n",
      " [-8.41e-01  3.10e-01  3.61e+00 -1.12e+00]\n",
      " [ 1.61e-01  2.29e+00 -1.50e+00  1.77e-02]\n",
      " [ 1.62e+00 -2.09e+00 -1.25e-01  1.20e+00]\n",
      " [-3.17e+00 -2.72e-01  9.03e-01 -6.05e+00]\n",
      " [-4.31e-01  6.74e-01 -4.52e+01 -6.11e-01]\n",
      " [ 4.85e-01  8.33e+00 -8.26e-01  3.20e-01]\n",
      " [ 3.74e+00 -1.10e+00  1.70e-01  2.35e+00]\n",
      " [-1.47e+00  2.66e-02  1.65e+00 -2.04e+00]\n",
      " [-1.16e-01  1.22e+00 -3.08e+00 -2.62e-01]\n",
      " [ 9.19e-01 -5.74e+00 -4.21e-01  6.87e-01]\n",
      " [-3.23e+01 -5.99e-01  4.96e-01  9.00e+00]\n",
      " [-8.11e-01  3.30e-01  3.88e+00 -1.08e+00]\n",
      " [ 1.79e-01  2.41e+00 -1.44e+00  3.54e-02]\n",
      " [ 1.69e+00 -2.00e+00 -1.07e-01  1.24e+00]\n",
      " [-2.99e+00 -2.53e-01  9.36e-01 -5.45e+00]\n",
      " [-4.10e-01  7.00e-01 -2.51e+01 -5.87e-01]]\n",
      "[[1.54e+00 3.76e+00 1.01e+01 2.73e+01]\n",
      " [7.42e+01 2.02e+02 5.48e+02 1.49e+03]\n",
      " [4.05e+03 1.10e+04 2.99e+04 8.14e+04]\n",
      " [2.21e+05 6.01e+05 1.63e+06 4.44e+06]\n",
      " [1.21e+07 3.28e+07 8.92e+07 2.43e+08]\n",
      " [6.59e+08 1.79e+09 4.87e+09 1.32e+10]\n",
      " [3.60e+10 9.79e+10 2.66e+11 7.23e+11]\n",
      " [1.97e+12 5.34e+12 1.45e+13 3.95e+13]\n",
      " [1.07e+14 2.92e+14 7.93e+14 2.16e+15]\n",
      " [5.86e+15 1.59e+16 4.33e+16 1.18e+17]\n",
      " [3.20e+17 8.70e+17 2.36e+18 6.43e+18]\n",
      " [1.75e+19 4.75e+19 1.29e+20 3.51e+20]\n",
      " [9.54e+20 2.59e+21 7.05e+21 1.92e+22]\n",
      " [5.21e+22 1.42e+23 3.85e+23 1.05e+24]\n",
      " [2.84e+24 7.73e+24 2.10e+25 5.71e+25]\n",
      " [1.55e+26 4.22e+26 1.15e+27 3.12e+27]\n",
      " [8.47e+27 2.30e+28 6.26e+28 1.70e+29]\n",
      " [4.63e+29 1.26e+30 3.42e+30 9.29e+30]\n",
      " [2.53e+31 6.87e+31 1.87e+32 5.07e+32]\n",
      " [1.38e+33 3.75e+33 1.02e+34 2.77e+34]\n",
      " [7.53e+34 2.05e+35 5.56e+35 1.51e+36]\n",
      " [4.11e+36 1.12e+37 3.04e+37 8.26e+37]\n",
      " [2.24e+38 6.10e+38 1.66e+39 4.51e+39]\n",
      " [1.23e+40 3.33e+40 9.06e+40 2.46e+41]\n",
      " [6.69e+41 1.82e+42 4.94e+42 1.34e+43]]\n"
     ]
    }
   ],
   "source": [
    "print(np.cos(x))\n",
    "print(np.tan(x))\n",
    "print(np.cosh(x))"
   ]
  },
  {
   "cell_type": "code",
   "execution_count": 38,
   "metadata": {},
   "outputs": [],
   "source": [
    "t = np.arange(-5, 5, .05)\n",
    "x = np.sin(t)\n",
    "y = np.cos(t)"
   ]
  },
  {
   "cell_type": "code",
   "execution_count": 39,
   "metadata": {},
   "outputs": [
    {
     "data": {
      "text/plain": [
       "[<matplotlib.lines.Line2D at 0x265f3802210>]"
      ]
     },
     "execution_count": 39,
     "metadata": {},
     "output_type": "execute_result"
    },
    {
     "data": {
      "image/png": "[encoded data removed]",
      "text/plain": [
       "<Figure size 640x480 with 1 Axes>"
      ]
     },
     "metadata": {},
     "output_type": "display_data"
    }
   ],
   "source": [
    "import matplotlib.pyplot as plt\n",
    "\n",
    "plt.plot(t, x)\n",
    "plt.plot(t, y)"
   ]
  },
  {
   "cell_type": "markdown",
   "metadata": {},
   "source": [
    "visualization"
   ]
  },
  {
   "cell_type": "code",
   "execution_count": 40,
   "metadata": {},
   "outputs": [
    {
     "name": "stderr",
     "output_type": "stream",
     "text": [
      "C:\\Users\\akans\\AppData\\Local\\Temp\\ipykernel_36028\\4045098916.py:13: UserWarning: linestyle is redundantly defined by the 'linestyle' keyword argument and the fmt string \"go--\" (-> linestyle='--'). The keyword argument will take precedence.\n",
      "  ax.plot(x,y, 'go--', linewidth=1,\n",
      "C:\\Users\\akans\\AppData\\Local\\Temp\\ipykernel_36028\\4045098916.py:13: UserWarning: marker is redundantly defined by the 'marker' keyword argument and the fmt string \"go--\" (-> marker='o'). The keyword argument will take precedence.\n",
      "  ax.plot(x,y, 'go--', linewidth=1,\n",
      "C:\\Users\\akans\\AppData\\Local\\Temp\\ipykernel_36028\\4045098916.py:13: UserWarning: color is redundantly defined by the 'color' keyword argument and the fmt string \"go--\" (-> color='g'). The keyword argument will take precedence.\n",
      "  ax.plot(x,y, 'go--', linewidth=1,\n"
     ]
    },
    {
     "data": {
      "text/plain": [
       "<matplotlib.patches.Rectangle at 0x265f38ed400>"
      ]
     },
     "execution_count": 40,
     "metadata": {},
     "output_type": "execute_result"
    },
    {
     "data": {
      "image/png": "[encoded data removed]",
      "text/plain": [
       "<Figure size 640x480 with 1 Axes>"
      ]
     },
     "metadata": {},
     "output_type": "display_data"
    }
   ],
   "source": [
    "fig, ax = plt.subplots()\n",
    "fig.set_facecolor('blue')\n",
    "ax.set_facecolor('lightblue')\n",
    "#plt.xlabel('Time')\n",
    "ax.set_xlabel('Time')\n",
    "ax.set_ylabel('Amplitude') # plt.tlabel('Amplitube')\n",
    "\n",
    "ax.set_title('sine Wave') #plt.title('Sinusoidl Wave')\n",
    "\n",
    "x = [1,2,3,4,5,6,7,8,9,10]\n",
    "y = [23,56,67,34,12,56,23,45,78,55]\n",
    "\n",
    "ax.plot(x,y, 'go--', linewidth=1, \n",
    "        markersize=5, \n",
    "        markerfacecolor = 'red',\n",
    "        markeredgecolor='black',\n",
    "        markeredgewidth=5,\n",
    "        color='green',\n",
    "        marker='h',\n",
    "        linestyle=':',\n",
    "        alpha= .8) # r=red color, o= dots , alpha for transparency\n",
    "\n",
    "\n",
    "# horizontal line \n",
    "ax.axhline(50, color='black', linewidth=2, alpha = .4)\n",
    "ax.axvline(3, color='black', linewidth=2, alpha=.4)\n",
    "#        x,   y,   text\n",
    "ax.text(3.2, 52, \"Above threshold\")\n",
    "ax.text(3.2, 47, \"Below threshold\")\n",
    "#rectangle box\n",
    "ax.axvspan(3, 6, color='red', alpha=.2)\n",
    "ax.axhspan(40, 60, color='blue', alpha=.2)"
   ]
  },
  {
   "cell_type": "code",
   "execution_count": 41,
   "metadata": {},
   "outputs": [
    {
     "data": {
      "text/plain": [
       "Text(0.5, 1.0, 'Scatter Plot')"
      ]
     },
     "execution_count": 41,
     "metadata": {},
     "output_type": "execute_result"
    },
    {
     "data": {
      "image/png": "[encoded data removed]",
      "text/plain": [
       "<Figure size 1000x500 with 2 Axes>"
      ]
     },
     "metadata": {},
     "output_type": "display_data"
    }
   ],
   "source": [
    "fig, (ax1, ax2) = plt.subplots(1,2, figsize=(10,5)) # 1 row, 2 columns\n",
    "x = np.arange(1, 101)\n",
    "y = np.random.uniform(1, 10, 100)\n",
    "ax1.plot(x,y)\n",
    "ax2.scatter(x, y, s=100, c='red', alpha=.5)\n",
    "ax1.set_title('Line Plot')\n",
    "ax2.set_title('Scatter Plot')"
   ]
  },
  {
   "cell_type": "code",
   "execution_count": null,
   "metadata": {},
   "outputs": [],
   "source": []
  }
 ],
 "metadata": {
  "kernelspec": {
   "display_name": "base",
   "language": "python",
   "name": "python3"
  },
  "language_info": {
   "codemirror_mode": {
    "name": "ipython",
    "version": 3
   },
   "file_extension": ".py",
   "mimetype": "text/x-python",
   "name": "python",
   "nbconvert_exporter": "python",
   "pygments_lexer": "ipython3",
   "version": "3.12.3"
  }
 },
 "nbformat": 4,
 "nbformat_minor": 2
}
