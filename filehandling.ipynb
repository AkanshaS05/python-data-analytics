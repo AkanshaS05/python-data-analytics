{
 "cells": [
  {
   "cell_type": "code",
   "execution_count": 1,
   "metadata": {},
   "outputs": [],
   "source": [
    "import os"
   ]
  },
  {
   "cell_type": "code",
   "execution_count": 2,
   "metadata": {},
   "outputs": [
    {
     "name": "stdout",
     "output_type": "stream",
     "text": [
      "c:\\Users\\akans\\OneDrive\\Documents\\python data analytics\n"
     ]
    }
   ],
   "source": [
    "BASE_DIR = os.getcwd()\n",
    "print(BASE_DIR)"
   ]
  },
  {
   "cell_type": "code",
   "execution_count": 3,
   "metadata": {},
   "outputs": [
    {
     "name": "stdout",
     "output_type": "stream",
     "text": [
      "['.git', 'basics.ipynb', 'condition.ipynb', 'datavisualization.ipynb', 'filehandling.ipynb', 'function.ipynb', 'function2.ipynb', 'io.ipynb', 'kahani.py', 'list.ipynb', 'loops.ipynb', 'mynotes', 'numpy.ipynb', 'pattern1.py', 'set_n_dict.ipynb', 'string.ipynb', 'visualization.ipynb']\n"
     ]
    }
   ],
   "source": [
    "content = os.listdir()\n",
    "print(content)"
   ]
  },
  {
   "cell_type": "code",
   "execution_count": 4,
   "metadata": {},
   "outputs": [
    {
     "name": "stdout",
     "output_type": "stream",
     "text": [
      "Total content: 29\n"
     ]
    }
   ],
   "source": [
    "addr = r'c:\\Program Files'  # particular file mai kitne content h \n",
    "content = os.listdir(addr)\n",
    "print(f'Total content: {len(content)}')"
   ]
  },
  {
   "cell_type": "code",
   "execution_count": 5,
   "metadata": {},
   "outputs": [
    {
     "data": {
      "text/plain": [
       "['C:\\\\']"
      ]
     },
     "execution_count": 5,
     "metadata": {},
     "output_type": "execute_result"
    }
   ],
   "source": [
    "os.listdrives() # for this function , we check how many drives in our system"
   ]
  },
  {
   "cell_type": "code",
   "execution_count": 6,
   "metadata": {},
   "outputs": [
    {
     "name": "stdout",
     "output_type": "stream",
     "text": [
      "['.git', 'basics.ipynb', 'condition.ipynb', 'datavisualization.ipynb', 'filehandling.ipynb', 'function.ipynb', 'function2.ipynb', 'io.ipynb', 'kahani.py', 'list.ipynb', 'loops.ipynb', 'mynotes', 'numpy.ipynb', 'pattern1.py', 'set_n_dict.ipynb', 'string.ipynb', 'visualization.ipynb']\n"
     ]
    }
   ],
   "source": [
    "os.chdir(\"c:\") # for changing the drives\n",
    "print(os.listdir())"
   ]
  },
  {
   "cell_type": "code",
   "execution_count": 7,
   "metadata": {},
   "outputs": [],
   "source": [
    "os.makedirs(\"mynotes\", exist_ok=True) # for making the folder in the drives"
   ]
  },
  {
   "cell_type": "markdown",
   "metadata": {},
   "source": [
    " # python file handling \n",
    "`open()` - opens file resources and returns a file object.\n",
    "- modes\n",
    "    - 'r' - read mode (default)\n",
    "    - 'w' - write mode\n",
    "    - 'a' - append mode"
   ]
  },
  {
   "cell_type": "code",
   "execution_count": 8,
   "metadata": {},
   "outputs": [],
   "source": [
    "with open('mynotes/note1.txt', 'w') as f:\n",
    "    f.write(\"This is my first note:\\n\")\n",
    "    f.write(\"python file handling is supet easy\\n\")\n",
    "    f.write(\"You can write and delete files easily\\n\")"
   ]
  },
  {
   "cell_type": "code",
   "execution_count": 9,
   "metadata": {},
   "outputs": [],
   "source": [
    "with open('mynotes/note1.txt', 'a') as f:\n",
    "    f.write(\"OS module is the best\\n\")\n",
    "    f.write(\"python is easy language\\n\")\n",
    "    f.write(\"hahaha\\n\")"
   ]
  },
  {
   "cell_type": "code",
   "execution_count": 10,
   "metadata": {},
   "outputs": [
    {
     "name": "stdout",
     "output_type": "stream",
     "text": [
      "This is my first note:\n",
      "python file handling is supet easy\n",
      "You can write and delete files easily\n",
      "OS module is the best\n",
      "python is easy language\n",
      "hahaha\n",
      "\n"
     ]
    }
   ],
   "source": [
    "with open('mynotes/note1.txt') as file:\n",
    "    data = file.read()\n",
    "\n",
    "print(data)"
   ]
  },
  {
   "cell_type": "code",
   "execution_count": 11,
   "metadata": {},
   "outputs": [
    {
     "name": "stdout",
     "output_type": "stream",
     "text": [
      "kahani = \" \"\n",
      "while True:\n",
      "   data = input(\"enter a story=>\") \n",
      "   if len(data) == 0:\n",
      "      print(\"the end!\")\n",
      "      break\n",
      "   kahani += data + \"\\n\"\n",
      "\n",
      "with open('story.txt','w') as file:\n",
      "   file.write(kahani)\n"
     ]
    }
   ],
   "source": [
    "with open(r'C:\\Users\\akans\\OneDrive\\Documents\\python data analytics\\kahani.py') as f:\n",
    "    data = f.read()\n",
    "print(data)"
   ]
  },
  {
   "cell_type": "code",
   "execution_count": 12,
   "metadata": {},
   "outputs": [
    {
     "name": "stdout",
     "output_type": "stream",
     "text": [
      "['Google Dorking & Wayback URL.pdf']\n"
     ]
    }
   ],
   "source": [
    "items = os.listdir('c:/users/akans/downloads')\n",
    "pdfs = list(filter(lambda file: file.endswith('.pdf'), items))\n",
    "print(pdfs)"
   ]
  },
  {
   "cell_type": "code",
   "execution_count": 25,
   "metadata": {},
   "outputs": [
    {
     "ename": "FileNotFoundError",
     "evalue": "[WinError 2] The system cannot find the file specified: 'c:/Users/akans/Downloads/pdfGoogle Dorking & Wayback URL.pdf'",
     "output_type": "error",
     "traceback": [
      "\u001b[1;31m---------------------------------------------------------------------------\u001b[0m",
      "\u001b[1;31mFileNotFoundError\u001b[0m                         Traceback (most recent call last)",
      "Cell \u001b[1;32mIn[25], line 3\u001b[0m\n\u001b[0;32m      1\u001b[0m \u001b[38;5;28;01mfor\u001b[39;00m file \u001b[38;5;129;01min\u001b[39;00m pdfs:\n\u001b[0;32m      2\u001b[0m     path \u001b[38;5;241m=\u001b[39m \u001b[38;5;124mf\u001b[39m\u001b[38;5;124m'\u001b[39m\u001b[38;5;124mc:/Users/akans/Downloads/pdf\u001b[39m\u001b[38;5;132;01m{\u001b[39;00mfile\u001b[38;5;132;01m}\u001b[39;00m\u001b[38;5;124m'\u001b[39m\n\u001b[1;32m----> 3\u001b[0m     size \u001b[38;5;241m=\u001b[39m os\u001b[38;5;241m.\u001b[39mpath\u001b[38;5;241m.\u001b[39mgetsize(path)\n\u001b[0;32m      4\u001b[0m     \u001b[38;5;28mprint\u001b[39m(\u001b[38;5;124mf\u001b[39m\u001b[38;5;124m'\u001b[39m\u001b[38;5;132;01m{\u001b[39;00mfile\u001b[38;5;132;01m:\u001b[39;00m\u001b[38;5;124m50\u001b[39m\u001b[38;5;132;01m}\u001b[39;00m\u001b[38;5;124m \u001b[39m\u001b[38;5;132;01m{\u001b[39;00msize\u001b[38;5;241m/\u001b[39m\u001b[38;5;241m1024\u001b[39m\u001b[38;5;132;01m:\u001b[39;00m\u001b[38;5;124m.2f\u001b[39m\u001b[38;5;132;01m}\u001b[39;00m\u001b[38;5;124m KB\u001b[39m\u001b[38;5;124m'\u001b[39m)\n",
      "File \u001b[1;32m<frozen genericpath>:62\u001b[0m, in \u001b[0;36mgetsize\u001b[1;34m(filename)\u001b[0m\n",
      "\u001b[1;31mFileNotFoundError\u001b[0m: [WinError 2] The system cannot find the file specified: 'c:/Users/akans/Downloads/pdfGoogle Dorking & Wayback URL.pdf'"
     ]
    }
   ],
   "source": [
    "for file in pdfs:\n",
    "    path = f'c:/Users/akans/Downloads/pdf{file}'\n",
    "    size = os.path.getsize(path)\n",
    "    print(f'{file:50} {size/1024:.2f} KB')"
   ]
  },
  {
   "cell_type": "code",
   "execution_count": null,
   "metadata": {},
   "outputs": [],
   "source": []
  },
  {
   "cell_type": "code",
   "execution_count": null,
   "metadata": {},
   "outputs": [],
   "source": []
  }
 ],
 "metadata": {
  "kernelspec": {
   "display_name": "base",
   "language": "python",
   "name": "python3"
  },
  "language_info": {
   "codemirror_mode": {
    "name": "ipython",
    "version": 3
   },
   "file_extension": ".py",
   "mimetype": "text/x-python",
   "name": "python",
   "nbconvert_exporter": "python",
   "pygments_lexer": "ipython3",
   "version": "3.12.3"
  }
 },
 "nbformat": 4,
 "nbformat_minor": 2
}
