{
 "cells": [
  {
   "cell_type": "markdown",
   "metadata": {},
   "source": [
    "# function syntax\n",
    "\n",
    "```python\n",
    "# creating a function\n",
    "def func_name(param1, param2):\n",
    "    # code here\n",
    "    # ...\n",
    "    return result \n",
    "\n",
    "# use a function/call a function\n",
    "result - func_name(arg1, arg2, ...)\n",
    "```"
   ]
  },
  {
   "cell_type": "code",
   "execution_count": 3,
   "metadata": {},
   "outputs": [],
   "source": [
    "def si(p, r, t):\n",
    "    return p*r*t/100\n"
   ]
  },
  {
   "cell_type": "code",
   "execution_count": 4,
   "metadata": {},
   "outputs": [
    {
     "data": {
      "text/plain": [
       "1998.0"
      ]
     },
     "execution_count": 4,
     "metadata": {},
     "output_type": "execute_result"
    }
   ],
   "source": [
    "si(12000, 3.33, 5)"
   ]
  },
  {
   "cell_type": "code",
   "execution_count": 5,
   "metadata": {},
   "outputs": [],
   "source": [
    "def info(l, w):\n",
    "    area = l*w\n",
    "    perimeter = 2*(l+w)\n",
    "    return area,perimeter"
   ]
  },
  {
   "cell_type": "code",
   "execution_count": 6,
   "metadata": {},
   "outputs": [
    {
     "data": {
      "text/plain": [
       "(1000, 140)"
      ]
     },
     "execution_count": 6,
     "metadata": {},
     "output_type": "execute_result"
    }
   ],
   "source": [
    "info(20, 50)"
   ]
  },
  {
   "cell_type": "code",
   "execution_count": 7,
   "metadata": {},
   "outputs": [
    {
     "name": "stdout",
     "output_type": "stream",
     "text": [
      "Area:200, Perimeter:60\n"
     ]
    }
   ],
   "source": [
    "a, p = info(20,10) #tuple unpacking\n",
    "print(f'Area:{a}, Perimeter:{p}')"
   ]
  },
  {
   "cell_type": "code",
   "execution_count": 8,
   "metadata": {},
   "outputs": [],
   "source": [
    "def acronym(name):\n",
    "    words = name.split()\n",
    "    for word in words:\n",
    "        print(word)"
   ]
  },
  {
   "cell_type": "code",
   "execution_count": 9,
   "metadata": {},
   "outputs": [
    {
     "name": "stdout",
     "output_type": "stream",
     "text": [
      "akansha\n",
      "singh\n"
     ]
    }
   ],
   "source": [
    "acronym(\"akansha singh\")"
   ]
  },
  {
   "cell_type": "code",
   "execution_count": 10,
   "metadata": {},
   "outputs": [],
   "source": [
    "def acronym(name):\n",
    "    result = ''\n",
    "    for word in name.split():\n",
    "        # print(word[0])\n",
    "        result+=word[0]   #first letter\n",
    "    return result\n",
    "\n"
   ]
  },
  {
   "cell_type": "code",
   "execution_count": 12,
   "metadata": {},
   "outputs": [
    {
     "data": {
      "text/plain": [
       "'IT'"
      ]
     },
     "execution_count": 12,
     "metadata": {},
     "output_type": "execute_result"
    }
   ],
   "source": [
    "acronym(\"Information Technology\")"
   ]
  },
  {
   "cell_type": "code",
   "execution_count": 13,
   "metadata": {},
   "outputs": [
    {
     "name": "stdout",
     "output_type": "stream",
     "text": [
      "['Sam Altman', 'Guido Von Rossum', 'Tim Bell']\n",
      "['SA', 'GVR', 'TB']\n"
     ]
    }
   ],
   "source": [
    "names = ['Sam Altman', 'Guido Von Rossum', 'Tim Bell']\n",
    "acr = [acronym(name) for name in names]\n",
    "print(names)\n",
    "print(acr)"
   ]
  },
  {
   "cell_type": "markdown",
   "metadata": {},
   "source": [
    "- default parameter\n",
    "- variables arguments\n",
    "- lambda experssion"
   ]
  },
  {
   "cell_type": "code",
   "execution_count": 14,
   "metadata": {},
   "outputs": [
    {
     "name": "stdout",
     "output_type": "stream",
     "text": [
      "25\n",
      "9765625\n",
      "125\n"
     ]
    }
   ],
   "source": [
    "def power(number, exp=2):\n",
    "    return number ** exp\n",
    "\n",
    "print(power(5))\n",
    "print(power(5, 10))\n",
    "print(power(5, 3))"
   ]
  },
  {
   "cell_type": "code",
   "execution_count": null,
   "metadata": {},
   "outputs": [],
   "source": []
  },
  {
   "cell_type": "markdown",
   "metadata": {},
   "source": [
    "- map and filter using lambda"
   ]
  },
  {
   "cell_type": "code",
   "execution_count": 1,
   "metadata": {},
   "outputs": [
    {
     "name": "stdout",
     "output_type": "stream",
     "text": [
      "1\n",
      "8\n",
      "27\n",
      "64\n",
      "125\n"
     ]
    }
   ],
   "source": [
    "x = [1,2,3,4,5]\n",
    "\n",
    "for i in x:\n",
    "    print(i**3)"
   ]
  },
  {
   "cell_type": "code",
   "execution_count": null,
   "metadata": {},
   "outputs": [],
   "source": [
    "# style 1 - (loop)\n",
    "x = [1,2,3,4,5]\n",
    "x3 = []\n",
    "for i in x:\n",
    "   x3.append(i**3)\n",
    "print(x3)\n",
    "\n",
    "# style 2 - (comprehension)\n",
    "x3 = [i**3 for i in x]\n",
    "print(x3)\n",
    "\n",
    "# style 3 - (map with lambda)\n",
    "x3 = list(map(lambda i: i**3, x))\n",
    "print(x3)"
   ]
  },
  {
   "cell_type": "code",
   "execution_count": null,
   "metadata": {},
   "outputs": [],
   "source": []
  }
 ],
 "metadata": {
  "kernelspec": {
   "display_name": "base",
   "language": "python",
   "name": "python3"
  },
  "language_info": {
   "codemirror_mode": {
    "name": "ipython",
    "version": 3
   },
   "file_extension": ".py",
   "mimetype": "text/x-python",
   "name": "python",
   "nbconvert_exporter": "python",
   "pygments_lexer": "ipython3",
   "version": "3.12.3"
  }
 },
 "nbformat": 4,
 "nbformat_minor": 2
}
