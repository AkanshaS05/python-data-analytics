{
 "cells": [
  {
   "cell_type": "markdown",
   "metadata": {},
   "source": [
    "# function syntax\n",
    "\n",
    "```python\n",
    "# creating a function\n",
    "def func_name(param1, param2):\n",
    "    # code here\n",
    "    # ...\n",
    "    return result \n",
    "\n",
    "# use a function/call a function\n",
    "result - func_name(arg1, arg2, ...)\n",
    "```"
   ]
  },
  {
   "cell_type": "code",
   "execution_count": 1,
   "metadata": {},
   "outputs": [],
   "source": [
    "def si(p, r, t):\n",
    "    return p*r*t/100\n"
   ]
  },
  {
   "cell_type": "code",
   "execution_count": 2,
   "metadata": {},
   "outputs": [
    {
     "data": {
      "text/plain": [
       "1998.0"
      ]
     },
     "execution_count": 2,
     "metadata": {},
     "output_type": "execute_result"
    }
   ],
   "source": [
    "si(12000, 3.33, 5)"
   ]
  },
  {
   "cell_type": "code",
   "execution_count": 3,
   "metadata": {},
   "outputs": [],
   "source": [
    "def info(l, w):\n",
    "    area = l*w\n",
    "    perimeter = 2*(l+w)\n",
    "    return area,perimeter"
   ]
  },
  {
   "cell_type": "code",
   "execution_count": 4,
   "metadata": {},
   "outputs": [
    {
     "data": {
      "text/plain": [
       "(1000, 140)"
      ]
     },
     "execution_count": 4,
     "metadata": {},
     "output_type": "execute_result"
    }
   ],
   "source": [
    "info(20, 50)"
   ]
  },
  {
   "cell_type": "code",
   "execution_count": 5,
   "metadata": {},
   "outputs": [
    {
     "name": "stdout",
     "output_type": "stream",
     "text": [
      "Area:200, Perimeter:60\n"
     ]
    }
   ],
   "source": [
    "a, p = info(20,10) #tuple unpacking\n",
    "print(f'Area:{a}, Perimeter:{p}')"
   ]
  },
  {
   "cell_type": "code",
   "execution_count": 6,
   "metadata": {},
   "outputs": [],
   "source": [
    "def acronym(name):\n",
    "    words = name.split()\n",
    "    for word in words:\n",
    "        print(word)"
   ]
  },
  {
   "cell_type": "code",
   "execution_count": 7,
   "metadata": {},
   "outputs": [
    {
     "name": "stdout",
     "output_type": "stream",
     "text": [
      "akansha\n",
      "singh\n"
     ]
    }
   ],
   "source": [
    "acronym(\"akansha singh\")"
   ]
  },
  {
   "cell_type": "code",
   "execution_count": 8,
   "metadata": {},
   "outputs": [],
   "source": [
    "def acronym(name):\n",
    "    result = ''\n",
    "    for word in name.split():\n",
    "        # print(word[0])\n",
    "        result+=word[0]   #first letter\n",
    "    return result\n",
    "\n"
   ]
  },
  {
   "cell_type": "code",
   "execution_count": 9,
   "metadata": {},
   "outputs": [
    {
     "data": {
      "text/plain": [
       "'IT'"
      ]
     },
     "execution_count": 9,
     "metadata": {},
     "output_type": "execute_result"
    }
   ],
   "source": [
    "acronym(\"Information Technology\")"
   ]
  },
  {
   "cell_type": "code",
   "execution_count": 10,
   "metadata": {},
   "outputs": [
    {
     "name": "stdout",
     "output_type": "stream",
     "text": [
      "['Sam Altman', 'Guido Von Rossum', 'Tim Bell']\n",
      "['SA', 'GVR', 'TB']\n"
     ]
    }
   ],
   "source": [
    "names = ['Sam Altman', 'Guido Von Rossum', 'Tim Bell']\n",
    "acr = [acronym(name) for name in names]\n",
    "print(names)\n",
    "print(acr)"
   ]
  },
  {
   "cell_type": "markdown",
   "metadata": {},
   "source": [
    "- default parameter\n",
    "- variables arguments\n",
    "- lambda experssion"
   ]
  },
  {
   "cell_type": "code",
   "execution_count": 11,
   "metadata": {},
   "outputs": [
    {
     "name": "stdout",
     "output_type": "stream",
     "text": [
      "25\n",
      "9765625\n",
      "125\n"
     ]
    }
   ],
   "source": [
    "def power(number, exp=2):\n",
    "    return number ** exp\n",
    "\n",
    "print(power(5))\n",
    "print(power(5, 10))\n",
    "print(power(5, 3))"
   ]
  },
  {
   "cell_type": "code",
   "execution_count": 14,
   "metadata": {},
   "outputs": [
    {
     "name": "stdout",
     "output_type": "stream",
     "text": [
      "0\n",
      "100\n",
      "28\n",
      "16\n",
      "18\n",
      "17\n"
     ]
    }
   ],
   "source": [
    "def summer(a=0,b=0,c=0,d=0):\n",
    "    return a+b+c+d\n",
    "\n",
    "print(summer())\n",
    "print(summer(100))\n",
    "print(summer(12,3,5,8))\n",
    "print(summer(8,8))\n",
    "print(summer(a=8,c=10))\n",
    "print(summer(c=8,d=9))"
   ]
  },
  {
   "cell_type": "code",
   "execution_count": 17,
   "metadata": {},
   "outputs": [
    {
     "data": {
      "text/plain": [
       "10"
      ]
     },
     "execution_count": 17,
     "metadata": {},
     "output_type": "execute_result"
    }
   ],
   "source": [
    "sum([1,2,3,4])"
   ]
  },
  {
   "cell_type": "code",
   "execution_count": 16,
   "metadata": {},
   "outputs": [
    {
     "name": "stdout",
     "output_type": "stream",
     "text": [
      "30\n",
      "6.0\n",
      "1\n",
      "5\n"
     ]
    }
   ],
   "source": [
    "def stats(*num, action='sum'):\n",
    "    if action=='sum':\n",
    "        return sum(num)\n",
    "    if action== 'mean':\n",
    "        return sum(num)/len(num)\n",
    "    if action== 'count':\n",
    "        return len(num)\n",
    "    if action== 'min':\n",
    "        return min(num)\n",
    "\n",
    "print(stats(1,5,12,8,4))\n",
    "print(stats(1,5,12,8,4,action='mean'))\n",
    "print(stats(1,5,12,8,4,action='min'))\n",
    "print(stats(1,5,12,8,4,action='count'))"
   ]
  },
  {
   "cell_type": "code",
   "execution_count": 23,
   "metadata": {},
   "outputs": [],
   "source": [
    "# any function that is not returning anything is returning None\n",
    "def greeting():\n",
    "    print('hello')\n",
    "    print('world')\n"
   ]
  },
  {
   "cell_type": "code",
   "execution_count": 24,
   "metadata": {},
   "outputs": [
    {
     "name": "stdout",
     "output_type": "stream",
     "text": [
      "hello\n",
      "world\n",
      "None\n"
     ]
    }
   ],
   "source": [
    "print(greeting())"
   ]
  },
  {
   "cell_type": "code",
   "execution_count": 26,
   "metadata": {},
   "outputs": [
    {
     "name": "stdout",
     "output_type": "stream",
     "text": [
      "[1, 4, 9, 16, 25]\n",
      "[1, 8, 27, 64, 125]\n"
     ]
    }
   ],
   "source": [
    "# higher order function\n",
    "def apply(func, data):\n",
    "    return[func(x) for x in data]\n",
    "\n",
    "def square(x):\n",
    "    return x ** 2\n",
    "\n",
    "def cube(x):\n",
    "    return x ** 3\n",
    "\n",
    "# implement a function that takes a list of numbers and a function\n",
    "ans = apply(square, [1,2,3,4,5])\n",
    "print(ans)\n",
    "ans =apply(cube, [1,2,3,4,5])\n",
    "print(ans)"
   ]
  },
  {
   "cell_type": "code",
   "execution_count": 21,
   "metadata": {},
   "outputs": [
    {
     "name": "stdout",
     "output_type": "stream",
     "text": [
      "10\n"
     ]
    }
   ],
   "source": [
    "a =stats(1,2,3,4)\n",
    "print(a)"
   ]
  },
  {
   "cell_type": "markdown",
   "metadata": {},
   "source": [
    "# lambda expression\n",
    "```python\n",
    "f(x) = x**2 + 10\n",
    "g(x,y) = x*2 + y*2 - x+y\n",
    "```"
   ]
  },
  {
   "cell_type": "code",
   "execution_count": 27,
   "metadata": {},
   "outputs": [
    {
     "name": "stdout",
     "output_type": "stream",
     "text": [
      "<function <lambda> at 0x0000019DA09E19E0>\n",
      "14\n",
      "35\n",
      "110\n"
     ]
    }
   ],
   "source": [
    "f = lambda x: x**2 + 10\n",
    "print(f)\n",
    "print(f(2))\n",
    "print(f(5))\n",
    "print(f(10))"
   ]
  },
  {
   "cell_type": "code",
   "execution_count": 28,
   "metadata": {},
   "outputs": [
    {
     "name": "stdout",
     "output_type": "stream",
     "text": [
      "11\n",
      "16\n",
      "84\n"
     ]
    }
   ],
   "source": [
    "g = lambda x, y: x*2 + y*2 - x + y\n",
    "print(g(2,3))\n",
    "print(g(4,4))\n",
    "print(g(12,24))"
   ]
  },
  {
   "cell_type": "markdown",
   "metadata": {},
   "source": [
    "- map and filter using lambda"
   ]
  },
  {
   "cell_type": "code",
   "execution_count": 12,
   "metadata": {},
   "outputs": [
    {
     "name": "stdout",
     "output_type": "stream",
     "text": [
      "1\n",
      "8\n",
      "27\n",
      "64\n",
      "125\n"
     ]
    }
   ],
   "source": [
    "x = [1,2,3,4,5]\n",
    "\n",
    "for i in x:\n",
    "    print(i**3)"
   ]
  },
  {
   "cell_type": "code",
   "execution_count": 13,
   "metadata": {},
   "outputs": [
    {
     "name": "stdout",
     "output_type": "stream",
     "text": [
      "[1, 8, 27, 64, 125]\n",
      "[1, 8, 27, 64, 125]\n",
      "[1, 8, 27, 64, 125]\n"
     ]
    }
   ],
   "source": [
    "# style 1 - (loop)\n",
    "x = [1,2,3,4,5]\n",
    "x3 = []\n",
    "for i in x:\n",
    "   x3.append(i**3)\n",
    "print(x3)\n",
    "\n",
    "# style 2 - (comprehension)\n",
    "x3 = [i**3 for i in x]\n",
    "print(x3)\n",
    "\n",
    "# style 3 - (map with lambda)\n",
    "x3 = list(map(lambda i: i**3, x))\n",
    "print(x3)"
   ]
  },
  {
   "cell_type": "code",
   "execution_count": null,
   "metadata": {},
   "outputs": [],
   "source": []
  }
 ],
 "metadata": {
  "kernelspec": {
   "display_name": "base",
   "language": "python",
   "name": "python3"
  },
  "language_info": {
   "codemirror_mode": {
    "name": "ipython",
    "version": 3
   },
   "file_extension": ".py",
   "mimetype": "text/x-python",
   "name": "python",
   "nbconvert_exporter": "python",
   "pygments_lexer": "ipython3",
   "version": "3.12.3"
  }
 },
 "nbformat": 4,
 "nbformat_minor": 2
}
