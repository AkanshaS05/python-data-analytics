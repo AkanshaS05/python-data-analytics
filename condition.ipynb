{
 "cells": [
  {
   "cell_type": "markdown",
   "metadata": {},
   "source": [
    "condition\n",
    "```\n",
    "if\n",
    "if else\n",
    "if elif\n",
    "match case\n",
    "\n",
    "```\n"
   ]
  },
  {
   "cell_type": "code",
   "execution_count": 1,
   "metadata": {},
   "outputs": [
    {
     "name": "stdout",
     "output_type": "stream",
     "text": [
      "You have a very big name\n"
     ]
    }
   ],
   "source": [
    "name = input(\"enter your name\")\n",
    "len(name)\n",
    "print(\"You have a very big name\")"
   ]
  },
  {
   "cell_type": "markdown",
   "metadata": {},
   "source": [
    "\n",
    "syntax:\n",
    "```python\n",
    "if expr:\n",
    "    statement 1\n",
    "    statement 2\n",
    "    \n",
    "    ...\n",
    "    statement n\n",
    "```\n",
    "    \n"
   ]
  },
  {
   "cell_type": "code",
   "execution_count": 2,
   "metadata": {},
   "outputs": [],
   "source": [
    "name = input(\"enter your name\")\n",
    "if len(name) >=10:\n",
    "    print(\"You have a very big name\")"
   ]
  },
  {
   "cell_type": "code",
   "execution_count": 3,
   "metadata": {},
   "outputs": [
    {
     "name": "stdout",
     "output_type": "stream",
     "text": [
      "Standard name, nothing special\n"
     ]
    }
   ],
   "source": [
    "name = input(\"enter your name\")\n",
    "if len(name) >= 10:\n",
    "    print(\"You have a very big name\")\n",
    "if len(name) < 10:\n",
    "    print(\"Standard name, nothing special\")"
   ]
  },
  {
   "cell_type": "code",
   "execution_count": 4,
   "metadata": {},
   "outputs": [
    {
     "name": "stdout",
     "output_type": "stream",
     "text": [
      " you dont have a name\n",
      " consize name\n",
      "standard name,nothing special\n"
     ]
    }
   ],
   "source": [
    "name = input(\"enter your name\")\n",
    "if len(name) == 0:\n",
    "    print(\" you dont have a name\")\n",
    "if len(name) <=4:\n",
    "    print(\" consize name\")\n",
    "if len(name) <10:\n",
    "    print(\"standard name,nothing special\")\n",
    "if len(name) >=10:\n",
    "    print(\"you have a very big name\")"
   ]
  },
  {
   "cell_type": "code",
   "execution_count": 6,
   "metadata": {},
   "outputs": [
    {
     "name": "stdout",
     "output_type": "stream",
     "text": [
      "even\n"
     ]
    }
   ],
   "source": [
    "num = int(input(\"enter a number\"))\n",
    "if num % 2 == 0:\n",
    "    print(\"even\")\n",
    "else:\n",
    "    print(\"odd\")"
   ]
  },
  {
   "cell_type": "code",
   "execution_count": null,
   "metadata": {},
   "outputs": [
    {
     "name": "stdout",
     "output_type": "stream",
     "text": [
      "kaun ho tum?\n"
     ]
    }
   ],
   "source": [
    "username = input(\"enter username\")\n",
    "password = input(\"enter a password\")\n",
    "if username == \" admin\" and password == \"admin\":\n",
    "    print(\"welcome user!\")\n",
    "else:\n",
    "    print(\"kaun ho tum?\")\n",
    "\n"
   ]
  },
  {
   "cell_type": "code",
   "execution_count": null,
   "metadata": {},
   "outputs": [
    {
     "name": "stdout",
     "output_type": "stream",
     "text": [
      "badhiya , B grade\n"
     ]
    }
   ],
   "source": [
    "# if - elif ladder \n",
    "marks = int(input(\"kiten number aaye aapke =>\"))\n",
    "if marks >=85:\n",
    "    print(\" arey wah! you got A\")\n",
    "elif marks >=70:\n",
    "    print(\"badhiya , B grade\")\n",
    "elif marks >= 50:\n",
    "    print(\" chalo pass toh hue, C grade\")\n",
    "else:\n",
    "    print(\"Fail, better luck next year\")"
   ]
  },
  {
   "cell_type": "code",
   "execution_count": null,
   "metadata": {},
   "outputs": [
    {
     "name": "stdout",
     "output_type": "stream",
     "text": [
      "credentials cant be blank\n"
     ]
    }
   ],
   "source": [
    "\n",
    "7#nested condition\n",
    "username = input(\"username\")\n",
    "password = input(\"password\")\n",
    "if username !='' and password != '':\n",
    "    if username == \"admin\":\n",
    "        if password == \"admin\":\n",
    "            print(\"welcome user 21832!\")\n",
    "        else:\n",
    "            print(\"password do not match\")\n",
    "    else:\n",
    "        print(\"username does not exit\")\n",
    "else:\n",
    "    print(\"credentials cant be blank\")\n"
   ]
  },
  {
   "cell_type": "code",
   "execution_count": null,
   "metadata": {},
   "outputs": [
    {
     "name": "stdout",
     "output_type": "stream",
     "text": [
      " You are not worthy\n"
     ]
    }
   ],
   "source": [
    "age = int(input(\"enter your age:\"))\n",
    "match age:\n",
    "    case 1|2|3|4|5:\n",
    "        print(\" You are still very young\")\n",
    "    case 10:\n",
    "        print(\" You should go and play outside\")\n",
    "    case 20:\n",
    "        print(\" You are teenager\")\n",
    "    case 30:\n",
    "        print(\" You are an adult, take responsibilities\")\n",
    "    case _:\n",
    "        print(\" You are not worthy\")\n",
    "        \n",
    "        \n",
    "        "
   ]
  },
  {
   "cell_type": "code",
   "execution_count": null,
   "metadata": {},
   "outputs": [],
   "source": []
  },
  {
   "cell_type": "code",
   "execution_count": null,
   "metadata": {},
   "outputs": [],
   "source": []
  }
 ],
 "metadata": {
  "kernelspec": {
   "display_name": "base",
   "language": "python",
   "name": "python3"
  },
  "language_info": {
   "codemirror_mode": {
    "name": "ipython",
    "version": 3
   },
   "file_extension": ".py",
   "mimetype": "text/x-python",
   "name": "python",
   "nbconvert_exporter": "python",
   "pygments_lexer": "ipython3",
   "version": "3.12.3"
  }
 },
 "nbformat": 4,
 "nbformat_minor": 2
}
