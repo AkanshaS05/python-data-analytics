{
 "cells": [
  {
   "cell_type": "code",
   "execution_count": 1,
   "metadata": {},
   "outputs": [],
   "source": [
    "p = 12000\n",
    "r = 10.47\n",
    "t = 5\n",
    "si = p*r*t/100\n"
   ]
  },
  {
   "cell_type": "markdown",
   "metadata": {},
   "source": [
    "example ans = input(\"prompt\")"
   ]
  },
  {
   "cell_type": "code",
   "execution_count": 2,
   "metadata": {},
   "outputs": [
    {
     "data": {
      "text/plain": [
       "''"
      ]
     },
     "execution_count": 2,
     "metadata": {},
     "output_type": "execute_result"
    }
   ],
   "source": [
    "input(\"enter your name\")"
   ]
  },
  {
   "cell_type": "code",
   "execution_count": 3,
   "metadata": {},
   "outputs": [],
   "source": [
    "name = input(\" Enter your name\")\n",
    "city = input(\" Enter your city\")\n",
    "colour = input(\" Enter your colour\")\n",
    "fruit = input(\" Enter your fruit\")\n",
    "luckynumber = input(\" Enter lucky number\")"
   ]
  },
  {
   "cell_type": "code",
   "execution_count": 4,
   "metadata": {},
   "outputs": [
    {
     "name": "stdout",
     "output_type": "stream",
     "text": [
      "7676\n"
     ]
    }
   ],
   "source": [
    "a = input(\" Enter a number\")\n",
    "b = input(\" Enter a number\")\n",
    "print(a+b)"
   ]
  },
  {
   "cell_type": "markdown",
   "metadata": {},
   "source": [
    "typecasting\n",
    "\n",
    "from one datatype => another\n",
    "str => int(variable) =>int"
   ]
  },
  {
   "cell_type": "code",
   "execution_count": 5,
   "metadata": {},
   "outputs": [
    {
     "data": {
      "text/plain": [
       "120"
      ]
     },
     "execution_count": 5,
     "metadata": {},
     "output_type": "execute_result"
    }
   ],
   "source": [
    "int(\"120\")"
   ]
  },
  {
   "cell_type": "code",
   "execution_count": 6,
   "metadata": {},
   "outputs": [
    {
     "data": {
      "text/plain": [
       "12.4"
      ]
     },
     "execution_count": 6,
     "metadata": {},
     "output_type": "execute_result"
    }
   ],
   "source": [
    "float(12.4)"
   ]
  },
  {
   "cell_type": "code",
   "execution_count": 7,
   "metadata": {},
   "outputs": [
    {
     "name": "stdout",
     "output_type": "stream",
     "text": [
      "<class 'int'>\n",
      "<class 'str'>\n",
      "<class 'str'>\n",
      "<class 'float'>\n"
     ]
    }
   ],
   "source": [
    "a = 10\n",
    "b = \"100\"\n",
    "c = \"10.30\"\n",
    "d = 10.30\n",
    "print(type(a))\n",
    "print(type(b))\n",
    "print(type(c))\n",
    "print(type(d))"
   ]
  },
  {
   "cell_type": "code",
   "execution_count": 8,
   "metadata": {},
   "outputs": [
    {
     "name": "stdout",
     "output_type": "stream",
     "text": [
      "10.0\n",
      "10\n",
      "True\n"
     ]
    }
   ],
   "source": [
    "print(float(a))\n",
    "print(str(a))\n",
    "print(bool(a))"
   ]
  },
  {
   "cell_type": "code",
   "execution_count": 9,
   "metadata": {},
   "outputs": [
    {
     "name": "stdout",
     "output_type": "stream",
     "text": [
      "853\n"
     ]
    }
   ],
   "source": [
    "a = input(\" enter a number\")\n",
    "b = input(\" enter a number\")\n",
    "c = int(a)+int(b)\n",
    "print(c)"
   ]
  },
  {
   "cell_type": "code",
   "execution_count": 11,
   "metadata": {},
   "outputs": [
    {
     "name": "stdout",
     "output_type": "stream",
     "text": [
      "11\n"
     ]
    }
   ],
   "source": [
    "a = int(input(\"enter a number\"))\n",
    "b = int(input(\"enter a number\"))\n",
    "c = a + b\n",
    "print(c)\n"
   ]
  },
  {
   "cell_type": "code",
   "execution_count": null,
   "metadata": {},
   "outputs": [
    {
     "name": "stdout",
     "output_type": "stream",
     "text": [
      "6269.999999999999\n"
     ]
    }
   ],
   "source": [
    "p = int(input(\"enter a principal amount\"))\n",
    "r = float(input(\" enter a rate\"))\n",
    "t = int(input(\" enter a time\"))\n",
    "si = p*r*t/100\n",
    "print(si)"
   ]
  },
  {
   "cell_type": "markdown",
   "metadata": {},
   "source": [
    "formatted output\n",
    "answer = 12 - 3= 9"
   ]
  },
  {
   "cell_type": "code",
   "execution_count": null,
   "metadata": {},
   "outputs": [
    {
     "name": "stdout",
     "output_type": "stream",
     "text": [
      "answer : 12 - 3 = 9\n"
     ]
    }
   ],
   "source": [
    "a = 12\n",
    "b = 3\n",
    "c = a - b\n",
    "print(\"answer :\" ,a , '-',b, '=', c)"
   ]
  },
  {
   "cell_type": "code",
   "execution_count": null,
   "metadata": {},
   "outputs": [
    {
     "name": "stdout",
     "output_type": "stream",
     "text": [
      "2762.72\n",
      " Simple interest calculator\n",
      " Principle = 20000\n",
      " Rate = 3.4534\n",
      " Time = 4\n",
      "_______________\n",
      " Simple Interest = 2762.72\n"
     ]
    }
   ],
   "source": [
    "p = int(input(\"enter a principal amount\"))\n",
    "r = float(input(\" enter a rate\"))\n",
    "t = int(input(\" enter a time\"))\n",
    "si = p*r*t/100\n",
    "print(si)\n",
    "print(\" Simple interest calculator\")\n",
    "print(\" Principle =\", p)\n",
    "print(\" Rate =\", r)\n",
    "print(\" Time =\", t)\n",
    "print('_'* 15)\n",
    "print(\" Simple Interest =\", si)"
   ]
  },
  {
   "cell_type": "code",
   "execution_count": null,
   "metadata": {},
   "outputs": [
    {
     "name": "stdout",
     "output_type": "stream",
     "text": [
      "52005.0\n",
      " Simple interest calculator\n",
      " principle = 30000 $\n",
      " rate = 34.67 %\n",
      " time = 5 years\n",
      "_______________\n",
      " Simple Interest = 52005.0\n"
     ]
    }
   ],
   "source": [
    "p = int(input(\"enter a principle\"))\n",
    "r = float(input(\" enter a rate\"))\n",
    "t = int(input(\" enter a time\"))\n",
    "si = p*r*t/100\n",
    "print(si)\n",
    "print(\" Simple interest calculator\")\n",
    "print(\" principle =\", p , '$')\n",
    "print(\" rate =\", r , '%')\n",
    "print(\" time =\", t , 'years')\n",
    "print('_'* 15)\n",
    "print(\" Simple Interest =\", si)"
   ]
  },
  {
   "cell_type": "code",
   "execution_count": null,
   "metadata": {},
   "outputs": [
    {
     "name": "stdout",
     "output_type": "stream",
     "text": [
      "12-3-9-10.3\n"
     ]
    }
   ],
   "source": [
    "print(a,b,c,d, sep= \"-\")"
   ]
  },
  {
   "cell_type": "code",
   "execution_count": null,
   "metadata": {},
   "outputs": [
    {
     "name": "stdout",
     "output_type": "stream",
     "text": [
      "h-e-l-l-o\n"
     ]
    }
   ],
   "source": [
    "print(*'hello', sep='-')"
   ]
  },
  {
   "cell_type": "code",
   "execution_count": 12,
   "metadata": {},
   "outputs": [
    {
     "name": "stdout",
     "output_type": "stream",
     "text": [
      "h-e-l-l-o\n",
      "apple, banana, cherry\n"
     ]
    }
   ],
   "source": [
    "print(*'hello', sep='-') # advance version (not to be discussed)\n",
    "fruits = ['apple','banana','cherry']\n",
    "print(*fruits, sep=', ') # advance version(not to be discussed)"
   ]
  },
  {
   "cell_type": "markdown",
   "metadata": {},
   "source": [
    "string interpolation for formatted output\n"
   ]
  },
  {
   "cell_type": "code",
   "execution_count": null,
   "metadata": {},
   "outputs": [
    {
     "name": "stdout",
     "output_type": "stream",
     "text": [
      "answer : 12 - 3 = 9\n",
      "answer: 12 - 3 =9\n"
     ]
    }
   ],
   "source": [
    "a = 12\n",
    "b = 3\n",
    "c = a - b\n",
    "print(\"answer :\" ,a , '-',b, '=', c)\n",
    "print(f\"answer: {a} - {b} ={c}\")"
   ]
  },
  {
   "cell_type": "code",
   "execution_count": null,
   "metadata": {},
   "outputs": [
    {
     "name": "stdout",
     "output_type": "stream",
     "text": [
      " area of triangle\n",
      "base = 20 cm\n",
      "height = 5 cm\n",
      "_______________\n",
      " area = 50.0 cm\n"
     ]
    }
   ],
   "source": [
    "# area of triangle\n",
    "b = int(input(\" enter the base of the triangle\"))\n",
    "h = int(input(\" enter the height of the triangle\"))\n",
    "area = 1/2*b*h\n",
    "print(\" area of triangle\")\n",
    "print(f\"base = {b} cm\")\n",
    "print(f\"height = {h} cm\")\n",
    "print('_'*15)\n",
    "print(f\" area = {area} cm\")"
   ]
  },
  {
   "cell_type": "code",
   "execution_count": null,
   "metadata": {},
   "outputs": [
    {
     "name": "stdout",
     "output_type": "stream",
     "text": [
      "3\n",
      "3.3\n",
      "3.33\n",
      "3.333\n"
     ]
    }
   ],
   "source": [
    "#round function should be used with expression\n",
    "print(round(10/3))\n",
    "print(round(10/3,1))\n",
    "print(round(10/3,2))\n",
    "print(round(10/3,3))"
   ]
  },
  {
   "cell_type": "code",
   "execution_count": null,
   "metadata": {},
   "outputs": [
    {
     "name": "stdout",
     "output_type": "stream",
     "text": [
      "10 divided by 7 is 1.4285714285714286\n",
      "10 divided by 7 is 1.4\n",
      "10 divided by 7 is 1.43\n",
      "10 divided by 7 is 1.429\n"
     ]
    }
   ],
   "source": [
    "a = 10\n",
    "b = 7\n",
    "c = a/b\n",
    "print(f'{a} divided by {b} is {c}')\n",
    "print(f'{a} divided by {b} is {c:.1f}')\n",
    "print(f'{a} divided by {b} is {c:.2f}')\n",
    "print(f'{a} divided by {b} is {c:.3f}')"
   ]
  },
  {
   "cell_type": "code",
   "execution_count": null,
   "metadata": {},
   "outputs": [
    {
     "name": "stdout",
     "output_type": "stream",
     "text": [
      "                        The final empire |  Barndon Sanderson   | 499\n",
      "                          The Art of war |       Sun Tzu        | 239\n",
      "   Stormlight Archives: the way of kings |  Barndon Sanderson   | 550\n"
     ]
    }
   ],
   "source": [
    "# text aligment\n",
    "n1 = \"The final empire\"\n",
    "a1 = 'Barndon Sanderson'\n",
    "p1 = 499\n",
    "n2 = \"The Art of war\"\n",
    "a2 = 'Sun Tzu '\n",
    "p2 = 239\n",
    "n3 = \"Stormlight Archives: the way of kings\"\n",
    "a3 = 'Barndon Sanderson'\n",
    "p3 = 550\n",
    "#print(f 'title | author | pages')\n",
    "print(f'{n1:>40} | {a1:^20} | {p1}') #> right alignment ^center alignment\n",
    "print(f'{n2:>40} | {a2:^20} | {p2}')\n",
    "print(f'{n3:>40} | {a3:^20} | {p3}')\n"
   ]
  },
  {
   "cell_type": "code",
   "execution_count": null,
   "metadata": {},
   "outputs": [],
   "source": []
  }
 ],
 "metadata": {
  "kernelspec": {
   "display_name": "base",
   "language": "python",
   "name": "python3"
  },
  "language_info": {
   "codemirror_mode": {
    "name": "ipython",
    "version": 3
   },
   "file_extension": ".py",
   "mimetype": "text/x-python",
   "name": "python",
   "nbconvert_exporter": "python",
   "pygments_lexer": "ipython3",
   "version": "3.12.3"
  }
 },
 "nbformat": 4,
 "nbformat_minor": 2
}
