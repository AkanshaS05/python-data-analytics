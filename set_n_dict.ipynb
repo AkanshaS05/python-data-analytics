{
 "cells": [
  {
   "cell_type": "markdown",
   "metadata": {},
   "source": [
    "# set\n",
    "- create\n",
    "- method"
   ]
  },
  {
   "cell_type": "code",
   "execution_count": 4,
   "metadata": {},
   "outputs": [
    {
     "name": "stdout",
     "output_type": "stream",
     "text": [
      "set()\n",
      "{1, 2, 3, 4, 5, 6}\n",
      "{'cherry', 'apple', 'banana'}\n",
      "{3.14, 205, 'banana', 'apple'}\n",
      "{1, 2, 3, 4, 5, 6, 7, 8, 9, 10}\n",
      "{'y', 'a', 'e', 'r', 'p', 'o', 'h', 't', ' '}\n"
     ]
    }
   ],
   "source": [
    "x = set() # empty\n",
    "print(x)\n",
    "y = {1,2,3,4,5,6,1,2}\n",
    "print(y)\n",
    "fruits = {\"apple\", \"banana\", \"cherry\"}\n",
    "print(fruits)\n",
    "data = {'apple', 205, 3.14, 'banana'}\n",
    "print(data)\n",
    "a = set([1,2,3,4,5,6,7,8,9,10])\n",
    "b = set(\"harry potter\")\n",
    "print(a)\n",
    "print(b)"
   ]
  },
  {
   "cell_type": "code",
   "execution_count": 5,
   "metadata": {},
   "outputs": [
    {
     "name": "stdout",
     "output_type": "stream",
     "text": [
      "{'The final empire', 'The well of ascension', 'The hero of ages'}\n"
     ]
    }
   ],
   "source": [
    "a = set()\n",
    "a.add(\"The final empire\")\n",
    "a.add(\"The hero of ages\")\n",
    "a.add(\"The well of ascension\")\n",
    "print(a)"
   ]
  },
  {
   "cell_type": "code",
   "execution_count": 7,
   "metadata": {},
   "outputs": [
    {
     "name": "stdout",
     "output_type": "stream",
     "text": [
      "{'The well of ascension', 'The final empire', 'AppleSeed', 'AppleCider', 'The hero of ages', 'ApplePie'}\n"
     ]
    }
   ],
   "source": [
    "a.update(['AppleSeed','ApplePie','AppleCider'])\n",
    "print(a)"
   ]
  },
  {
   "cell_type": "code",
   "execution_count": 12,
   "metadata": {},
   "outputs": [
    {
     "name": "stdout",
     "output_type": "stream",
     "text": [
      "{'The well of ascension', 'The final empire', 'AppleSeed', 'AppleCider', 'Appleseed', 'The hero of ages', 'ApplePie'}\n"
     ]
    }
   ],
   "source": [
    "a.add(\"AppleSeed\") # not added\n",
    "print(a) #no duplicates"
   ]
  },
  {
   "cell_type": "code",
   "execution_count": 14,
   "metadata": {},
   "outputs": [
    {
     "name": "stdout",
     "output_type": "stream",
     "text": [
      "{'The well of ascension', 'The final empire', 'AppleSeed', 'AppleCider', 'The hero of ages'}\n"
     ]
    }
   ],
   "source": [
    "a.discard(\"Appleseed\")\n",
    "a.discard(\"ApplePie\") # for removig the data\n",
    "a.discard(\"ApplePie\")\n",
    "print(a)"
   ]
  },
  {
   "cell_type": "code",
   "execution_count": 19,
   "metadata": {},
   "outputs": [
    {
     "name": "stdout",
     "output_type": "stream",
     "text": [
      "{1, 2, 3, 4, 5}\n",
      "{1, 2, 3, 4, 5, 6, 7, 8}\n",
      "{1, 2, 3, 4, 5, 6, 7, 8}\n"
     ]
    }
   ],
   "source": [
    "a = {1,2,3}\n",
    "b = {3,4,5}\n",
    "c = {6,7,8}\n",
    "ab = (a.union(b))\n",
    "print(ab)\n",
    "print(a.union(b,c))\n",
    "print(a | b | c) # | is union"
   ]
  },
  {
   "cell_type": "code",
   "execution_count": 23,
   "metadata": {},
   "outputs": [
    {
     "name": "stdout",
     "output_type": "stream",
     "text": [
      "{3}\n",
      "{3}\n",
      "set()\n",
      "set()\n"
     ]
    }
   ],
   "source": [
    "print(a.intersection(b))\n",
    "print(a & b) # & is intersection\n",
    "print(a & c)\n",
    "print(a & b & c)"
   ]
  },
  {
   "cell_type": "code",
   "execution_count": 26,
   "metadata": {},
   "outputs": [
    {
     "name": "stdout",
     "output_type": "stream",
     "text": [
      "{1, 2}\n",
      "{4, 5}\n",
      "{1, 2}\n"
     ]
    }
   ],
   "source": [
    "print(a.difference(b))\n",
    "print(b.difference(a))\n",
    "print(a - b) # - is difference"
   ]
  },
  {
   "cell_type": "code",
   "execution_count": 28,
   "metadata": {},
   "outputs": [
    {
     "name": "stdout",
     "output_type": "stream",
     "text": [
      "{1, 2, 4, 5}\n",
      "{1, 2, 4, 5}\n"
     ]
    }
   ],
   "source": [
    "print(a.symmetric_difference(b))\n",
    "print(a ^ b) # ^ is symmetric difference"
   ]
  },
  {
   "cell_type": "markdown",
   "metadata": {},
   "source": [
    "# Dictionary"
   ]
  },
  {
   "cell_type": "code",
   "execution_count": 8,
   "metadata": {},
   "outputs": [
    {
     "name": "stdout",
     "output_type": "stream",
     "text": [
      "{'name': 'alex', 'isMarried': True, 'hasChildren': False, 'age': 29, 'city': 'new york', 'profession': 'photographer'}\n",
      "<class 'dict'>\n",
      "{}\n",
      "{'food': 500, 'rent': 1700, 'insurance': 200}\n"
     ]
    }
   ],
   "source": [
    "data = [ 'alex', True, False, 29, 'new yoek', 'photographer']\n",
    "datadict = {\n",
    "    'name' : 'alex',\n",
    "    'isMarried': True,\n",
    "    'hasChildren': False,\n",
    "    'age': 29,\n",
    "    'city': 'new york',\n",
    "    'profession': 'photographer'\n",
    "}\n",
    "print(datadict)\n",
    "print(type(datadict))\n",
    "movies = {} # empty dictionary\n",
    "expenditure = dict(        # we use dict function for storing the data\n",
    "    food = 500,\n",
    "    rent = 1700,\n",
    "    insurance = 200,\n",
    ")\n",
    "print(movies)  \n",
    "print(expenditure) \n"
   ]
  },
  {
   "cell_type": "markdown",
   "metadata": {},
   "source": [
    "- creating\n",
    "- accesing\n",
    "- add or update \n",
    "- remove \n",
    "- traversal"
   ]
  },
  {
   "cell_type": "code",
   "execution_count": 13,
   "metadata": {},
   "outputs": [
    {
     "name": "stdout",
     "output_type": "stream",
     "text": [
      "alex\n",
      "True\n",
      "new york\n"
     ]
    }
   ],
   "source": [
    "print(datadict['name']) # accesing\n",
    "print(datadict['isMarried'])\n",
    "print(datadict['city'])\n",
    "#print(datadict['state']) # keyError \n"
   ]
  },
  {
   "cell_type": "code",
   "execution_count": 16,
   "metadata": {},
   "outputs": [
    {
     "name": "stdout",
     "output_type": "stream",
     "text": [
      "new york\n",
      "None\n",
      "29\n",
      "100\n"
     ]
    }
   ],
   "source": [
    "print(datadict.get('city')) # accesing\n",
    "print(datadict.get('City')) # City is not in the dictionary\n",
    "print(datadict.get('age',100)) # default value not used\n",
    "print(datadict.get('AGE',100)) # AGE is not in the dictionary\n"
   ]
  },
  {
   "cell_type": "code",
   "execution_count": 18,
   "metadata": {},
   "outputs": [
    {
     "name": "stdout",
     "output_type": "stream",
     "text": [
      "{'Deadpool & Wolverin': 'Shwan Levy', 'BahuBali': 'SS Rajmouli', 'Inception': 'Christopher Nolan'}\n"
     ]
    }
   ],
   "source": [
    "movies['Deadpool & Wolverin'] = \"Shwan Levy\" # adding\n",
    "movies['BahuBali'] = \"SS Rajmouli\"\n",
    "movies['Inception'] = \"Christopher Nolan\"\n",
    "print(movies)"
   ]
  },
  {
   "cell_type": "code",
   "execution_count": 19,
   "metadata": {},
   "outputs": [
    {
     "name": "stdout",
     "output_type": "stream",
     "text": [
      "{'Deadpool & Wolverin': 'Shwan Levy', 'BahuBali': 'SS Rajmouli', 'Inception': 'Christopher Nolan', 'The Dark knight': 'christopher', 'The Prestige': 'Christopher Nolan', 'The Matrix': 'Wachowski Brothers'}\n"
     ]
    }
   ],
   "source": [
    "movies.update(\n",
    "    {\n",
    "        'The Dark knight': 'christopher',\n",
    "        'The Prestige' : 'Christopher Nolan',\n",
    "        'The Matrix': 'Wachowski Brothers',\n",
    "    }\n",
    ")\n",
    "print(movies)"
   ]
  },
  {
   "cell_type": "code",
   "execution_count": 21,
   "metadata": {},
   "outputs": [
    {
     "name": "stdout",
     "output_type": "stream",
     "text": [
      "{'name': 'Alexander', 'isMarried': True, 'hasChildren': False, 'age': 29, 'city': 'new york', 'profession': 'photographer'}\n",
      "6\n"
     ]
    }
   ],
   "source": [
    "datadict['name'] = 'Alexander' # here we update the new value at the place of name\n",
    "print(datadict)\n"
   ]
  },
  {
   "cell_type": "code",
   "execution_count": 22,
   "metadata": {},
   "outputs": [
    {
     "data": {
      "text/plain": [
       "'SS Rajmouli'"
      ]
     },
     "execution_count": 22,
     "metadata": {},
     "output_type": "execute_result"
    }
   ],
   "source": [
    "movies.pop('BahuBali') # removing"
   ]
  },
  {
   "cell_type": "code",
   "execution_count": null,
   "metadata": {},
   "outputs": [],
   "source": [
    "movies"
   ]
  },
  {
   "cell_type": "markdown",
   "metadata": {},
   "source": [
    "for loop in dict will iterate over keys"
   ]
  },
  {
   "cell_type": "code",
   "execution_count": 26,
   "metadata": {},
   "outputs": [
    {
     "name": "stdout",
     "output_type": "stream",
     "text": [
      "{'name': 'Alexander', 'isMarried': True, 'hasChildren': False, 'age': 29, 'city': 'new york', 'profession': 'photographer'}\n",
      "{'name': 'Alexander', 'isMarried': True, 'hasChildren': False, 'age': 29, 'city': 'new york', 'profession': 'photographer'}\n",
      "{'name': 'Alexander', 'isMarried': True, 'hasChildren': False, 'age': 29, 'city': 'new york', 'profession': 'photographer'}\n",
      "{'name': 'Alexander', 'isMarried': True, 'hasChildren': False, 'age': 29, 'city': 'new york', 'profession': 'photographer'}\n",
      "{'name': 'Alexander', 'isMarried': True, 'hasChildren': False, 'age': 29, 'city': 'new york', 'profession': 'photographer'}\n",
      "{'name': 'Alexander', 'isMarried': True, 'hasChildren': False, 'age': 29, 'city': 'new york', 'profession': 'photographer'}\n"
     ]
    }
   ],
   "source": [
    "for item in datadict:\n",
    "    print(datadict)"
   ]
  },
  {
   "cell_type": "code",
   "execution_count": 27,
   "metadata": {},
   "outputs": [
    {
     "name": "stdout",
     "output_type": "stream",
     "text": [
      "Alexander\n",
      "True\n",
      "False\n",
      "29\n",
      "new york\n",
      "photographer\n"
     ]
    }
   ],
   "source": [
    "for item in datadict:\n",
    "    print(datadict[item])"
   ]
  },
  {
   "cell_type": "code",
   "execution_count": 28,
   "metadata": {},
   "outputs": [
    {
     "name": "stdout",
     "output_type": "stream",
     "text": [
      "name Alexander\n",
      "isMarried True\n",
      "hasChildren False\n",
      "age 29\n",
      "city new york\n",
      "profession photographer\n"
     ]
    }
   ],
   "source": [
    "for k, v in datadict.items():\n",
    "    print(k, v)"
   ]
  },
  {
   "cell_type": "code",
   "execution_count": 29,
   "metadata": {},
   "outputs": [
    {
     "data": {
      "text/plain": [
       "dict_keys(['Deadpool & Wolverin', 'Inception', 'The Dark knight', 'The Prestige', 'The Matrix'])"
      ]
     },
     "execution_count": 29,
     "metadata": {},
     "output_type": "execute_result"
    }
   ],
   "source": [
    "movies.keys()"
   ]
  },
  {
   "cell_type": "code",
   "execution_count": 30,
   "metadata": {},
   "outputs": [
    {
     "data": {
      "text/plain": [
       "dict_values(['Shwan Levy', 'Christopher Nolan', 'christopher', 'Christopher Nolan', 'Wachowski Brothers'])"
      ]
     },
     "execution_count": 30,
     "metadata": {},
     "output_type": "execute_result"
    }
   ],
   "source": [
    "movies.values()"
   ]
  },
  {
   "cell_type": "markdown",
   "metadata": {},
   "source": [
    "nested dictionary"
   ]
  },
  {
   "cell_type": "code",
   "execution_count": 32,
   "metadata": {},
   "outputs": [],
   "source": [
    "report = {\n",
    "    '01' : {\n",
    "        'name' : \"Alex\",\n",
    "        'subjects' : {\n",
    "            'maths' : 90,\n",
    "            'science' : 75,\n",
    "            'english' : 85\n",
    "        }\n",
    "    },\n",
    "'02' : {\n",
    "     'name' : \"John\",\n",
    "     'subjects' : {\n",
    "             'maths' : 90,\n",
    "             'science' : 75,\n",
    "             'english' : 85\n",
    "        }\n",
    "    }\n",
    "}    "
   ]
  },
  {
   "cell_type": "code",
   "execution_count": 34,
   "metadata": {},
   "outputs": [
    {
     "data": {
      "text/plain": [
       "85"
      ]
     },
     "execution_count": 34,
     "metadata": {},
     "output_type": "execute_result"
    }
   ],
   "source": [
    "report['02']['subjects']['english']"
   ]
  },
  {
   "cell_type": "code",
   "execution_count": 35,
   "metadata": {},
   "outputs": [],
   "source": [
    "from pprint import pp"
   ]
  },
  {
   "cell_type": "code",
   "execution_count": 36,
   "metadata": {},
   "outputs": [
    {
     "name": "stdout",
     "output_type": "stream",
     "text": [
      "{'01': {'name': 'Alex',\n",
      "        'subjects': {'maths': 90, 'science': 75, 'english': 85}},\n",
      " '02': {'name': 'John',\n",
      "        'subjects': {'maths': 90, 'science': 75, 'english': 85}}}\n"
     ]
    }
   ],
   "source": [
    "pp(report)"
   ]
  },
  {
   "cell_type": "code",
   "execution_count": 38,
   "metadata": {},
   "outputs": [
    {
     "name": "stdout",
     "output_type": "stream",
     "text": [
      "{'year': [2019, 2020, 2021, 2022, 2023], 'rainfall': [100, 200, 150, 300, 250]}\n"
     ]
    }
   ],
   "source": [
    "rainfall_data = {\n",
    "    'year': [2019, 2020, 2021, 2022, 2023],\n",
    "    'rainfall' : [100, 200, 150, 300, 250]\n",
    "}\n",
    "print(rainfall_data)"
   ]
  },
  {
   "cell_type": "code",
   "execution_count": null,
   "metadata": {},
   "outputs": [],
   "source": []
  }
 ],
 "metadata": {
  "kernelspec": {
   "display_name": "base",
   "language": "python",
   "name": "python3"
  },
  "language_info": {
   "codemirror_mode": {
    "name": "ipython",
    "version": 3
   },
   "file_extension": ".py",
   "mimetype": "text/x-python",
   "name": "python",
   "nbconvert_exporter": "python",
   "pygments_lexer": "ipython3",
   "version": "3.12.3"
  }
 },
 "nbformat": 4,
 "nbformat_minor": 2
}
